{
 "cells": [
  {
   "cell_type": "code",
   "execution_count": 1,
   "metadata": {},
   "outputs": [],
   "source": [
    "import pandas as pd\n",
    "import matplotlib.pyplot as plt\n",
    "import config"
   ]
  },
  {
   "cell_type": "code",
   "execution_count": 2,
   "metadata": {},
   "outputs": [
    {
     "name": "stdout",
     "output_type": "stream",
     "text": [
      "     year  month  day        tp           ssr        temp  wind_speed  \\\n",
      "0    2019      6   14  0.000405  2.531833e+07  302.943363   20.583712   \n",
      "1    2019      6   15  0.000000  2.247385e+07  303.718934   56.989214   \n",
      "2    2019      6   16  0.000020  2.311338e+07  300.310264   44.144011   \n",
      "3    2019      6   17  0.000027  2.494433e+07  302.782760   46.247298   \n",
      "4    2019      6   18  0.000020  2.636700e+07  304.548111   72.426627   \n",
      "..    ...    ...  ...       ...           ...         ...         ...   \n",
      "467  2023      9    6  0.000036  2.140012e+07  300.507935   69.744911   \n",
      "468  2023      9    7  0.000044  2.004272e+07  301.553751   37.022578   \n",
      "469  2023      9    8  0.000710  1.872082e+07  300.866022   45.324208   \n",
      "470  2023      9    9  0.026282  1.713858e+07  298.859484   41.834611   \n",
      "471  2023      9   10  0.003666  1.537576e+07  298.711981   12.479365   \n",
      "\n",
      "     wind_direct   dvs   wlv   wst   wso   tagp   lai  \n",
      "0     180.378949  0.00     8     3     0     10  0.01  \n",
      "1     178.812706  0.02     9     3     0     12  0.01  \n",
      "2     177.647931  0.04    10     3     0     13  0.02  \n",
      "3     180.323786  0.07    11     4     0     15  0.02  \n",
      "4     180.493913  0.09    13     5     0     17  0.02  \n",
      "..           ...   ...   ...   ...   ...    ...   ...  \n",
      "467   178.363626  1.92  1573  1716  7483  12252  5.87  \n",
      "468   180.183125  1.94  1444  1683  7659  12431  5.43  \n",
      "469   180.156718  1.96  1317  1651  7827  12600  4.99  \n",
      "470   178.026410  1.99  1190  1619  7985  12758  4.54  \n",
      "471   177.996285  2.02  1119  1586  8131  12905  4.29  \n",
      "\n",
      "[472 rows x 14 columns]\n"
     ]
    }
   ],
   "source": [
    "df = pd.read_csv('maize.csv', index_col=0)\n",
    "print(df)"
   ]
  },
  {
   "cell_type": "code",
   "execution_count": 3,
   "metadata": {},
   "outputs": [],
   "source": [
    "# 区分训练集和测试集\n",
    "df['date'] = pd.to_datetime(df['year'].astype(str) + '-' + df['month'].astype(str) + '-' + df['day'].astype(str), format='%Y-%m-%d')\n",
    "train = df[(df['date'] >= config.maize_train_span[0][0]) &\n",
    "                             (df['date'] <= config.maize_train_span[-1][1])]\n",
    "test = df[(df['date'] >= config.maize_test_span[0][0]) &\n",
    "                             (df['date'] <= config.maize_test_span[-1][1])]\n",
    "train = train.drop('date', axis=1)\n",
    "test = test.drop('date', axis=1)"
   ]
  },
  {
   "cell_type": "code",
   "execution_count": 4,
   "metadata": {},
   "outputs": [
    {
     "name": "stdout",
     "output_type": "stream",
     "text": [
      "         year     month       day        tp       ssr      temp  wind_speed  \\\n",
      "0   -1.354594 -1.507504 -0.205844 -0.361195  1.151826  1.040255   -1.117524   \n",
      "1   -1.354594 -1.507504 -0.090752 -0.364059  0.693027  1.301414    0.105247   \n",
      "2   -1.354594 -1.507504  0.024341 -0.363915  0.796180  0.153606   -0.326192   \n",
      "3   -1.354594 -1.507504  0.139433 -0.363871  1.091502  0.986174   -0.255548   \n",
      "4   -1.354594 -1.507504  0.254525 -0.363915  1.320972  1.580624    0.623751   \n",
      "..        ...       ...       ...       ...       ...       ...         ...   \n",
      "378  1.342856  1.563635 -0.320936 -0.363723  0.084670 -1.377598    2.367003   \n",
      "379  1.342856  1.563635 -0.205844 -0.117720 -1.060200 -1.639211    2.177904   \n",
      "380  1.342856  1.563635 -0.090752 -0.290707 -0.943496 -1.818115    2.434369   \n",
      "381  1.342856  1.563635  0.024341 -0.363915  0.288100 -0.909952   -1.163785   \n",
      "382  1.342856  1.563635  0.139433 -0.363944  0.345894 -0.219902   -0.240720   \n",
      "\n",
      "     wind_direct       dvs       wlv       wst       wso      tagp       lai  \n",
      "0       0.669846 -1.641926 -1.353736 -1.286061 -0.778390 -1.075252 -1.298682  \n",
      "1      -0.467471 -1.608570 -1.352437 -1.286061 -0.778390 -1.074770 -1.298682  \n",
      "2      -1.313265 -1.575214 -1.351137 -1.286061 -0.778390 -1.074530 -1.295151  \n",
      "3       0.629790 -1.525180 -1.349837 -1.284911 -0.778390 -1.074048 -1.295151  \n",
      "4       0.753326 -1.491824 -1.347238 -1.283760 -0.778390 -1.073566 -1.295151  \n",
      "..           ...       ...       ...       ...       ...       ...       ...  \n",
      "378    -1.213873  1.576912  0.616493  0.423962  2.024774  1.741224  0.721254  \n",
      "379    -1.430573  1.593590  0.541115  0.390590  2.092590  1.783128  0.650627  \n",
      "380    -1.622055  1.626946  0.389059  0.358369  2.133749  1.808656  0.505842  \n",
      "381     0.454334  1.660302  0.273393  0.326148  2.176085  1.834665  0.392838  \n",
      "382     0.510986  1.693658  0.273393  0.293926  2.236452  1.871993  0.392838  \n",
      "\n",
      "[383 rows x 14 columns]\n",
      "        year     month       day        tp       ssr      temp  wind_speed  \\\n",
      "0   2.242006 -1.507504 -0.205844 -0.363902  1.419076  0.833424    0.044161   \n",
      "1   2.242006 -1.507504 -0.090752 -0.363972  1.585420  1.729279    1.099721   \n",
      "2   2.242006 -1.507504  0.024341 -0.359081  0.565932  1.558815    0.489395   \n",
      "3   2.242006 -1.507504  0.139433 -0.356173 -0.063463  0.012878    0.927684   \n",
      "4   2.242006 -1.507504  0.254525 -0.294781 -0.153033 -0.033810   -0.088087   \n",
      "..       ...       ...       ...       ...       ...       ...         ...   \n",
      "84  2.242006  1.563635 -1.126582 -0.363802  0.519839  0.220168    0.533679   \n",
      "85  2.242006  1.563635 -1.011490 -0.363749  0.300897  0.572328   -0.565383   \n",
      "86  2.242006  1.563635 -0.896398 -0.359033  0.087682  0.340747   -0.286552   \n",
      "87  2.242006  1.563635 -0.781305 -0.178036 -0.167526 -0.334918   -0.403759   \n",
      "88  2.242006  1.563635 -0.666213 -0.338108 -0.451860 -0.384587   -1.389729   \n",
      "\n",
      "    wind_direct       dvs       wlv       wst       wso      tagp       lai  \n",
      "0      0.309373 -1.641926 -1.353736 -1.286061 -0.778390 -1.075252 -1.298682  \n",
      "1      0.507839 -1.608570 -1.352437 -1.286061 -0.778390 -1.074770 -1.298682  \n",
      "2      0.501820 -1.575214 -1.351137 -1.284911 -0.778390 -1.074289 -1.295151  \n",
      "3      0.525158 -1.541858 -1.348538 -1.284911 -0.778390 -1.073807 -1.295151  \n",
      "4      0.152740 -1.508502 -1.347238 -1.284911 -0.778390 -1.073566 -1.295151  \n",
      "..          ...       ...       ...       ...       ...       ...       ...  \n",
      "84    -0.793568  1.560234  0.680175  0.685183  2.154917  1.872957  0.770693  \n",
      "85     0.527650  1.593590  0.512523  0.647209  2.223908  1.916065  0.615314  \n",
      "86     0.508475  1.626946  0.347471  0.610384  2.289764  1.956764  0.459934  \n",
      "87    -1.038435  1.676980  0.182419  0.573560  2.351699  1.994815  0.301023  \n",
      "88    -1.060311  1.727013  0.090146  0.535585  2.408930  2.030217  0.212739  \n",
      "\n",
      "[89 rows x 14 columns]\n"
     ]
    }
   ],
   "source": [
    "# 对train进行归一化\n",
    "from sklearn.preprocessing import StandardScaler\n",
    "scaler = StandardScaler()\n",
    "train_scaled = pd.DataFrame(scaler.fit_transform(train), columns=train.columns)\n",
    "print(train_scaled)\n",
    "# 对test使用train的数据进行归一化\n",
    "test_scaled = pd.DataFrame(scaler.transform(test), columns=test.columns)\n",
    "print(test_scaled)"
   ]
  },
  {
   "cell_type": "code",
   "execution_count": 5,
   "metadata": {},
   "outputs": [
    {
     "data": {
      "text/plain": [
       "['scaler.joblib']"
      ]
     },
     "execution_count": 5,
     "metadata": {},
     "output_type": "execute_result"
    }
   ],
   "source": [
    "# 将归一化模型导出\n",
    "from joblib import dump\n",
    "dump(scaler, 'scaler.joblib')"
   ]
  },
  {
   "cell_type": "markdown",
   "metadata": {},
   "source": [
    "## 对WLV进行分析"
   ]
  },
  {
   "cell_type": "code",
   "execution_count": 6,
   "metadata": {},
   "outputs": [
    {
     "name": "stdout",
     "output_type": "stream",
     "text": [
      "           0         1         2         3         4         5         6   \\\n",
      "0   -1.354594 -1.507504 -0.205844 -0.361195  1.151826  1.040255 -1.117524   \n",
      "1   -1.354594 -1.507504 -0.090752 -0.364059  0.693027  1.301414  0.105247   \n",
      "2   -1.354594 -1.507504  0.024341 -0.363915  0.796180  0.153606 -0.326192   \n",
      "3   -1.354594 -1.507504  0.139433 -0.363871  1.091502  0.986174 -0.255548   \n",
      "4   -1.354594 -1.507504  0.254525 -0.363915  1.320972  1.580624  0.623751   \n",
      "..        ...       ...       ...       ...       ...       ...       ...   \n",
      "372  1.342856  1.563635 -1.011490 -0.364059  0.782244 -0.033658 -0.266704   \n",
      "373  1.342856  1.563635 -0.896398 -0.363934  0.381310 -0.214527  1.272452   \n",
      "374  1.342856  1.563635 -0.781305 -0.363733  0.067729 -0.488764 -0.178705   \n",
      "375  1.342856  1.563635 -0.666213 -0.363819  0.321773 -0.607183 -1.123517   \n",
      "376  1.342856  1.563635 -0.551121 -0.337901  0.066683 -0.531393 -1.694155   \n",
      "\n",
      "           7         8         9   ...        82        83        84  \\\n",
      "0    0.669846 -1.641926 -1.353736  ... -1.072844 -1.295151 -1.354594   \n",
      "1   -0.467471 -1.608570 -1.352437  ... -1.072121 -1.291619 -1.354594   \n",
      "2   -1.313265 -1.575214 -1.351137  ... -1.071640 -1.291619 -1.354594   \n",
      "3    0.629790 -1.525180 -1.349837  ... -1.070676 -1.291619 -1.354594   \n",
      "4    0.753326 -1.491824 -1.347238  ... -1.069713 -1.288088 -1.354594   \n",
      "..        ...       ...       ...  ...       ...       ...       ...   \n",
      "372  0.849104  1.426811  0.760752  ...  1.698357  0.784819  1.342856   \n",
      "373  0.658738  1.426811  0.751654  ...  1.741224  0.721254  1.342856   \n",
      "374  0.484268  1.426811  0.742557  ...  1.783128  0.650627  1.342856   \n",
      "375 -1.509487  1.460167  0.733459  ...  1.808656  0.505842  1.342856   \n",
      "376  0.068601  1.493523  0.725662  ...  1.834665  0.392838  1.342856   \n",
      "\n",
      "           85        86        87        88        89        90        91  \n",
      "0   -1.507504  0.484710 -0.131486 -0.430248  0.665832  0.001862  0.908522  \n",
      "1   -1.507504  0.599802 -0.297800  0.888695  0.589050  1.228621 -0.937493  \n",
      "2   -1.507504  0.714894 -0.364059  1.260997  0.754401  0.226298 -0.815109  \n",
      "3   -1.507504  0.829987 -0.363893  1.480950  1.220022 -0.202146 -0.007036  \n",
      "4   -1.507504  0.945079 -0.363871  1.312854  1.253320  1.714708  0.494758  \n",
      "..        ...       ...       ...       ...       ...       ...       ...  \n",
      "372  1.563635 -0.320936 -0.363723  0.084670 -1.377598  2.367003 -1.213873  \n",
      "373  1.563635 -0.205844 -0.117720 -1.060200 -1.639211  2.177904 -1.430573  \n",
      "374  1.563635 -0.090752 -0.290707 -0.943496 -1.818115  2.434369 -1.622055  \n",
      "375  1.563635  0.024341 -0.363915  0.288100 -0.909952 -1.163785  0.454334  \n",
      "376  1.563635  0.139433 -0.363944  0.345894 -0.219902 -0.240720  0.510986  \n",
      "\n",
      "[377 rows x 92 columns]\n"
     ]
    }
   ],
   "source": [
    "# train_wlv = train_scaled.drop(['dvs', 'wst', 'wso', 'tagp', 'lai'], axis=1)\n",
    "rows1 = train_scaled[:len(train_scaled)-6].reset_index(drop=True)\n",
    "rows2 = train_scaled[1:len(train_scaled)-5].reset_index(drop=True)\n",
    "rows3 = train_scaled[2:len(train_scaled)-4].reset_index(drop=True)\n",
    "rows4 = train_scaled[3:len(train_scaled)-3].reset_index(drop=True)\n",
    "rows5 = train_scaled[4:len(train_scaled)-2].reset_index(drop=True)\n",
    "rows6 = train_scaled[5:len(train_scaled)-1].reset_index(drop=True)\n",
    "rows7 = train_scaled[6:].reset_index(drop=True)\n",
    "# 将rows7的其他target删去\n",
    "rows7 = rows7.drop(['dvs', 'wlv', 'wst', 'wso', 'tagp', 'lai'], axis=1)\n",
    "# 进行拼接\n",
    "train_input = pd.concat([rows1, rows2, rows3, rows4, rows5, rows6, rows7], axis=1, ignore_index=True)\n",
    "print(train_input)"
   ]
  },
  {
   "cell_type": "code",
   "execution_count": 7,
   "metadata": {},
   "outputs": [
    {
     "name": "stdout",
     "output_type": "stream",
     "text": [
      "0        17\n",
      "1        18\n",
      "2        20\n",
      "3        23\n",
      "4        27\n",
      "       ... \n",
      "372    1524\n",
      "373    1466\n",
      "374    1349\n",
      "375    1260\n",
      "376    1260\n",
      "Name: wlv, Length: 377, dtype: int64\n"
     ]
    }
   ],
   "source": [
    "train_target = train['wlv'][6:].reset_index(drop=True)\n",
    "print(train_target)"
   ]
  },
  {
   "cell_type": "code",
   "execution_count": 8,
   "metadata": {},
   "outputs": [
    {
     "name": "stdout",
     "output_type": "stream",
     "text": [
      "Explained variance ratio: [0.39572598 0.0769636  0.0716173  0.05084392]\n"
     ]
    }
   ],
   "source": [
    "# PCA分析\n",
    "from sklearn.decomposition import PCA\n",
    "import numpy as np\n",
    "pca = PCA(n_components=4)\n",
    "train_pca = pca.fit_transform(train_input)\n",
    "\n",
    "train_pca = pd.DataFrame(train_pca, columns=['A1', 'A2', 'A3', 'A4'])\n",
    "# 打印累计解释方差\n",
    "print(\"Explained variance ratio:\", pca.explained_variance_ratio_)"
   ]
  },
  {
   "cell_type": "code",
   "execution_count": 9,
   "metadata": {},
   "outputs": [
    {
     "name": "stdout",
     "output_type": "stream",
     "text": [
      "          0         1         2         3         4         5         6   \\\n",
      "0   2.242006 -1.507504 -0.205844 -0.363902  1.419076  0.833424  0.044161   \n",
      "1   2.242006 -1.507504 -0.090752 -0.363972  1.585420  1.729279  1.099721   \n",
      "2   2.242006 -1.507504  0.024341 -0.359081  0.565932  1.558815  0.489395   \n",
      "3   2.242006 -1.507504  0.139433 -0.356173 -0.063463  0.012878  0.927684   \n",
      "4   2.242006 -1.507504  0.254525 -0.294781 -0.153033 -0.033810 -0.088087   \n",
      "..       ...       ...       ...       ...       ...       ...       ...   \n",
      "78  2.242006  0.539922  1.750725 -0.348902  0.599936 -0.168206  1.475512   \n",
      "79  2.242006  1.563635 -1.702044 -0.329156 -0.049607 -0.065389 -0.397330   \n",
      "80  2.242006  1.563635 -1.586952 -0.352352  0.068665  0.081952  0.514887   \n",
      "81  2.242006  1.563635 -1.471859 -0.362841  0.486825  0.249230  1.313335   \n",
      "82  2.242006  1.563635 -1.356767 -0.360863  0.415069  0.315731 -0.759488   \n",
      "\n",
      "          7         8         9   ...        82        83        84        85  \\\n",
      "0   0.309373 -1.641926 -1.353736  ... -1.072844 -1.295151  2.242006 -1.507504   \n",
      "1   0.507839 -1.608570 -1.352437  ... -1.072603 -1.291619  2.242006 -1.507504   \n",
      "2   0.501820 -1.575214 -1.351137  ... -1.071640 -1.291619  2.242006 -1.507504   \n",
      "3   0.525158 -1.541858 -1.348538  ... -1.070676 -1.291619  2.242006 -1.507504   \n",
      "4   0.152740 -1.508502 -1.347238  ... -1.069472 -1.288088  2.242006 -1.507504   \n",
      "..       ...       ...       ...  ...       ...       ...       ...       ...   \n",
      "78  0.554834  1.310065  0.850426  ...  1.830812  0.876634  2.242006  1.563635   \n",
      "79 -0.643871  1.343421  0.838729  ...  1.872957  0.770693  2.242006  1.563635   \n",
      "80  0.610514  1.393455  0.827032  ...  1.916065  0.615314  2.242006  1.563635   \n",
      "81  0.659220  1.426811  0.815336  ...  1.956764  0.459934  2.242006  1.563635   \n",
      "82  0.082833  1.460167  0.804939  ...  1.994815  0.301023  2.242006  1.563635   \n",
      "\n",
      "          86        87        88        89        90        91  \n",
      "0   0.484710 -0.363959  1.323638  0.285581 -1.543095  1.652057  \n",
      "1   0.599802 -0.364007  1.577573  1.469724 -1.106386  1.344815  \n",
      "2   0.714894 -0.363880  1.630594  1.868401  0.680330  0.729164  \n",
      "3   0.829987 -0.363745  1.472592  1.958218  1.354014  0.673783  \n",
      "4   0.945079 -0.363850  1.261073  1.547786  0.511799 -0.003095  \n",
      "..       ...       ...       ...       ...       ...       ...  \n",
      "78 -1.126582 -0.363802  0.519839  0.220168  0.533679 -0.793568  \n",
      "79 -1.011490 -0.363749  0.300897  0.572328 -0.565383  0.527650  \n",
      "80 -0.896398 -0.359033  0.087682  0.340747 -0.286552  0.508475  \n",
      "81 -0.781305 -0.178036 -0.167526 -0.334918 -0.403759 -1.038435  \n",
      "82 -0.666213 -0.338108 -0.451860 -0.384587 -1.389729 -1.060311  \n",
      "\n",
      "[83 rows x 92 columns]\n",
      "0       16\n",
      "1       18\n",
      "2       21\n",
      "3       24\n",
      "4       28\n",
      "      ... \n",
      "78    1573\n",
      "79    1444\n",
      "80    1317\n",
      "81    1190\n",
      "82    1119\n",
      "Name: wlv, Length: 83, dtype: int64\n",
      "          A1        A2        A3        A4\n",
      "0  -8.330938 -5.916946 -0.216274  0.224149\n",
      "1  -8.409508 -5.854087 -0.180619  0.779088\n",
      "2  -8.459547 -5.834605 -0.179471  1.062774\n",
      "3  -8.524422 -5.821450 -0.222027  1.108375\n",
      "4  -8.678759 -5.744631 -0.585004  0.973253\n",
      "..       ...       ...       ...       ...\n",
      "78  8.428658 -5.849822  1.359394 -2.162146\n",
      "79  8.575315 -5.856906  1.760845 -2.958503\n",
      "80  8.524098 -5.814134  1.897541 -2.643946\n",
      "81  8.472968 -5.922044  2.022408 -2.374856\n",
      "82  8.367941 -6.019417  2.150598 -2.118525\n",
      "\n",
      "[83 rows x 4 columns]\n"
     ]
    }
   ],
   "source": [
    "# 处理测试集\n",
    "rows1 = test_scaled[:len(test_scaled)-6].reset_index(drop=True)\n",
    "rows2 = test_scaled[1:len(test_scaled)-5].reset_index(drop=True)\n",
    "rows3 = test_scaled[2:len(test_scaled)-4].reset_index(drop=True)\n",
    "rows4 = test_scaled[3:len(test_scaled)-3].reset_index(drop=True)\n",
    "rows5 = test_scaled[4:len(test_scaled)-2].reset_index(drop=True)\n",
    "rows6 = test_scaled[5:len(test_scaled)-1].reset_index(drop=True)\n",
    "rows7 = test_scaled[6:].reset_index(drop=True)\n",
    "# 将rows7的其他target删去\n",
    "rows7 = rows7.drop(['dvs', 'wlv', 'wst', 'wso', 'tagp', 'lai'], axis=1)\n",
    "# 进行拼接\n",
    "test_input = pd.concat([rows1, rows2, rows3, rows4, rows5, rows6, rows7], axis=1, ignore_index=True)\n",
    "print(test_input)\n",
    "test_target = test['wlv'][6:].reset_index(drop=True)\n",
    "print(test_target)\n",
    "# 使用训练集的PCA进行主成分分析\n",
    "test_pca = pca.transform(test_input)\n",
    "test_pca = pd.DataFrame(test_pca, columns=['A1', 'A2', 'A3', 'A4']) \n",
    "print(test_pca)"
   ]
  },
  {
   "cell_type": "markdown",
   "metadata": {},
   "source": [
    "### 多元回归分析"
   ]
  },
  {
   "cell_type": "code",
   "execution_count": 10,
   "metadata": {},
   "outputs": [
    {
     "data": {
      "text/html": [
       "<style>#sk-container-id-1 {color: black;}#sk-container-id-1 pre{padding: 0;}#sk-container-id-1 div.sk-toggleable {background-color: white;}#sk-container-id-1 label.sk-toggleable__label {cursor: pointer;display: block;width: 100%;margin-bottom: 0;padding: 0.3em;box-sizing: border-box;text-align: center;}#sk-container-id-1 label.sk-toggleable__label-arrow:before {content: \"▸\";float: left;margin-right: 0.25em;color: #696969;}#sk-container-id-1 label.sk-toggleable__label-arrow:hover:before {color: black;}#sk-container-id-1 div.sk-estimator:hover label.sk-toggleable__label-arrow:before {color: black;}#sk-container-id-1 div.sk-toggleable__content {max-height: 0;max-width: 0;overflow: hidden;text-align: left;background-color: #f0f8ff;}#sk-container-id-1 div.sk-toggleable__content pre {margin: 0.2em;color: black;border-radius: 0.25em;background-color: #f0f8ff;}#sk-container-id-1 input.sk-toggleable__control:checked~div.sk-toggleable__content {max-height: 200px;max-width: 100%;overflow: auto;}#sk-container-id-1 input.sk-toggleable__control:checked~label.sk-toggleable__label-arrow:before {content: \"▾\";}#sk-container-id-1 div.sk-estimator input.sk-toggleable__control:checked~label.sk-toggleable__label {background-color: #d4ebff;}#sk-container-id-1 div.sk-label input.sk-toggleable__control:checked~label.sk-toggleable__label {background-color: #d4ebff;}#sk-container-id-1 input.sk-hidden--visually {border: 0;clip: rect(1px 1px 1px 1px);clip: rect(1px, 1px, 1px, 1px);height: 1px;margin: -1px;overflow: hidden;padding: 0;position: absolute;width: 1px;}#sk-container-id-1 div.sk-estimator {font-family: monospace;background-color: #f0f8ff;border: 1px dotted black;border-radius: 0.25em;box-sizing: border-box;margin-bottom: 0.5em;}#sk-container-id-1 div.sk-estimator:hover {background-color: #d4ebff;}#sk-container-id-1 div.sk-parallel-item::after {content: \"\";width: 100%;border-bottom: 1px solid gray;flex-grow: 1;}#sk-container-id-1 div.sk-label:hover label.sk-toggleable__label {background-color: #d4ebff;}#sk-container-id-1 div.sk-serial::before {content: \"\";position: absolute;border-left: 1px solid gray;box-sizing: border-box;top: 0;bottom: 0;left: 50%;z-index: 0;}#sk-container-id-1 div.sk-serial {display: flex;flex-direction: column;align-items: center;background-color: white;padding-right: 0.2em;padding-left: 0.2em;position: relative;}#sk-container-id-1 div.sk-item {position: relative;z-index: 1;}#sk-container-id-1 div.sk-parallel {display: flex;align-items: stretch;justify-content: center;background-color: white;position: relative;}#sk-container-id-1 div.sk-item::before, #sk-container-id-1 div.sk-parallel-item::before {content: \"\";position: absolute;border-left: 1px solid gray;box-sizing: border-box;top: 0;bottom: 0;left: 50%;z-index: -1;}#sk-container-id-1 div.sk-parallel-item {display: flex;flex-direction: column;z-index: 1;position: relative;background-color: white;}#sk-container-id-1 div.sk-parallel-item:first-child::after {align-self: flex-end;width: 50%;}#sk-container-id-1 div.sk-parallel-item:last-child::after {align-self: flex-start;width: 50%;}#sk-container-id-1 div.sk-parallel-item:only-child::after {width: 0;}#sk-container-id-1 div.sk-dashed-wrapped {border: 1px dashed gray;margin: 0 0.4em 0.5em 0.4em;box-sizing: border-box;padding-bottom: 0.4em;background-color: white;}#sk-container-id-1 div.sk-label label {font-family: monospace;font-weight: bold;display: inline-block;line-height: 1.2em;}#sk-container-id-1 div.sk-label-container {text-align: center;}#sk-container-id-1 div.sk-container {/* jupyter's `normalize.less` sets `[hidden] { display: none; }` but bootstrap.min.css set `[hidden] { display: none !important; }` so we also need the `!important` here to be able to override the default hidden behavior on the sphinx rendered scikit-learn.org. See: https://github.com/scikit-learn/scikit-learn/issues/21755 */display: inline-block !important;position: relative;}#sk-container-id-1 div.sk-text-repr-fallback {display: none;}</style><div id=\"sk-container-id-1\" class=\"sk-top-container\"><div class=\"sk-text-repr-fallback\"><pre>LinearRegression()</pre><b>In a Jupyter environment, please rerun this cell to show the HTML representation or trust the notebook. <br />On GitHub, the HTML representation is unable to render, please try loading this page with nbviewer.org.</b></div><div class=\"sk-container\" hidden><div class=\"sk-item\"><div class=\"sk-estimator sk-toggleable\"><input class=\"sk-toggleable__control sk-hidden--visually\" id=\"sk-estimator-id-1\" type=\"checkbox\" checked><label for=\"sk-estimator-id-1\" class=\"sk-toggleable__label sk-toggleable__label-arrow\">LinearRegression</label><div class=\"sk-toggleable__content\"><pre>LinearRegression()</pre></div></div></div></div></div>"
      ],
      "text/plain": [
       "LinearRegression()"
      ]
     },
     "execution_count": 10,
     "metadata": {},
     "output_type": "execute_result"
    }
   ],
   "source": [
    "# 进行多元回归分析\n",
    "import numpy as np\n",
    "import pandas as pd\n",
    "from sklearn.linear_model import LinearRegression\n",
    "import matplotlib.pyplot as plt\n",
    "model = LinearRegression()\n",
    "model.fit(train_pca, train_target)"
   ]
  },
  {
   "cell_type": "code",
   "execution_count": 11,
   "metadata": {},
   "outputs": [
    {
     "name": "stdout",
     "output_type": "stream",
     "text": [
      "Coefficients: [  99.724149     28.07239975 -166.41748222   -4.54599177]\n",
      "Intercept: 1066.1671087533157\n"
     ]
    }
   ],
   "source": [
    "# 查看回归系数\n",
    "print(f'Coefficients: {model.coef_}')\n",
    "\n",
    "# 查看截距\n",
    "print(f'Intercept: {model.intercept_}')"
   ]
  },
  {
   "cell_type": "code",
   "execution_count": 13,
   "metadata": {},
   "outputs": [
    {
     "name": "stdout",
     "output_type": "stream",
     "text": [
      "train: 0        17\n",
      "1        18\n",
      "2        20\n",
      "3        23\n",
      "4        27\n",
      "       ... \n",
      "372    1524\n",
      "373    1466\n",
      "374    1349\n",
      "375    1260\n",
      "376    1260\n",
      "Name: wlv, Length: 377, dtype: int64\n",
      "predictions: [ 104.24131127   89.71428103   83.7903335    84.56476688  132.35021662\n",
      "  180.254973    230.84891985  246.72369666  288.42777537  275.30702393\n",
      "  264.56900427  266.69932175  296.65691326  309.19023962  296.83532896\n",
      "  230.67058718  182.73199926  129.38242439  153.24587712  184.06133598\n",
      "  240.06251614  323.65094286  461.74985644  531.6485847   543.06976657\n",
      "  520.88013832  517.37315183  551.81553146  593.20945699  620.06341417\n",
      "  711.00080225  825.10151962  945.42926485 1029.02350044 1144.36355812\n",
      " 1259.94361133 1395.26933227 1530.61084924 1700.96345288 1894.52707611\n",
      " 2067.98091625 2150.98678718 2192.68864602 2214.28752107 2195.16279636\n",
      " 2155.06438702 2147.6376818  2074.35313677 2011.12011299 1998.04480708\n",
      " 1976.27011899 1952.08133976 1935.30490384 1951.42297557 1970.30221501\n",
      " 1972.13073429 1974.97746524 1990.86813592 2005.11449468 2020.43523604\n",
      " 2043.17391144 2094.64278989 2098.2657726  2073.23412582 2035.60581526\n",
      " 1991.99246126 1948.76126501 1940.230359   1914.56469388 1833.7478082\n",
      " 1761.0556899  1696.98037876 1669.80547052 1653.76276921 1641.35693121\n",
      " 1634.30203237 1626.30167363 1578.54882154 1526.09153705 1477.32961729\n",
      " 1449.24424902 1419.11266575 1383.40712703]\n",
      "true value: 0       16\n",
      "1       18\n",
      "2       21\n",
      "3       24\n",
      "4       28\n",
      "      ... \n",
      "78    1573\n",
      "79    1444\n",
      "80    1317\n",
      "81    1190\n",
      "82    1119\n",
      "Name: wlv, Length: 83, dtype: int64\n",
      "R-squared: 0.9537234615871154\n",
      "MAE: 136.5940710530667\n",
      "MSE: 28820.97234180913\n"
     ]
    },
    {
     "data": {
      "image/png": "[encoded data removed]",
      "text/plain": [
       "<Figure size 640x480 with 1 Axes>"
      ]
     },
     "metadata": {},
     "output_type": "display_data"
    }
   ],
   "source": [
    "# 预测\n",
    "predictions = model.predict(test_pca)\n",
    "print('train:', train_target)\n",
    "print('predictions:', predictions)\n",
    "print('true value:', test_target)\n",
    "# 计算R平方\n",
    "r_squared = model.score(test_pca, test_target)\n",
    "print(f'R-squared: {r_squared}')\n",
    "\n",
    "# 计算MAE MSE\n",
    "from sklearn.metrics import mean_absolute_error, mean_squared_error\n",
    "\n",
    "mae = mean_absolute_error(test_target, predictions)\n",
    "\n",
    "mse = mean_squared_error(test_target, predictions)\n",
    "\n",
    "print(f\"MAE: {mae}\")\n",
    "print(f\"MSE: {mse}\")\n",
    "\n",
    "# 可视化\n",
    "import matplotlib.pyplot as plt\n",
    "plt.scatter(test_target, predictions)\n",
    "plt.xlabel('Actual values')\n",
    "plt.ylabel('Predicted values')\n",
    "plt.title('Actual vs. Predicted Values')\n",
    "plt.show() "
   ]
  },
  {
   "cell_type": "markdown",
   "metadata": {},
   "source": [
    "### 支持向量回归分析"
   ]
  },
  {
   "cell_type": "code",
   "execution_count": 14,
   "metadata": {},
   "outputs": [
    {
     "name": "stdout",
     "output_type": "stream",
     "text": [
      "Best parameters: {'C': 10, 'epsilon': 0.5, 'gamma': 'scale', 'kernel': 'linear'}\n",
      "MAE of the best model: 138.43035494968018\n",
      "MSE of the best model: 32756.883984354004\n"
     ]
    }
   ],
   "source": [
    "from sklearn.model_selection import GridSearchCV\n",
    "from sklearn.svm import SVR\n",
    "from sklearn.metrics import make_scorer, mean_absolute_error, mean_squared_error\n",
    "\n",
    "# 创建SVR模型实例\n",
    "svr = SVR()\n",
    "\n",
    "# 定义参数网格\n",
    "param_grid = {\n",
    "    'C': [0.1, 1, 10],\n",
    "    'epsilon': [0.1, 0.2, 0.5],\n",
    "    'kernel': ['rbf', 'linear'],\n",
    "    'gamma': ['scale', 'auto']  # 仅在kernel为非线性时有效\n",
    "}\n",
    "\n",
    "# 为MAE创建评分函数\n",
    "mae_scorer = make_scorer(mean_absolute_error, greater_is_better=False)\n",
    "\n",
    "# 为MSE创建评分函数\n",
    "mse_scorer = make_scorer(mean_squared_error, greater_is_better=False)\n",
    "\n",
    "# 创建GridSearchCV实例，这里我们使用MSE作为refit标准\n",
    "grid_search = GridSearchCV(estimator=svr, param_grid=param_grid, cv=5, scoring={'mae': mae_scorer, 'mse': mse_scorer}, refit='mse')\n",
    "\n",
    "# 执行网格搜索\n",
    "grid_search.fit(train_pca, train_target)\n",
    "\n",
    "# 输出最佳参数\n",
    "print(\"Best parameters:\", grid_search.best_params_)\n",
    "\n",
    "# 使用最佳参数的模型\n",
    "best_svr = grid_search.best_estimator_\n",
    "\n",
    "# 评估最佳模型的MSE MAE\n",
    "predictions = best_svr.predict(test_pca)\n",
    "mae_score = mean_absolute_error(test_target, predictions)\n",
    "mse_score = mean_squared_error(test_target, predictions)\n",
    "print(\"MAE of the best model:\", mae_score)\n",
    "print(\"MSE of the best model:\", mse_score)"
   ]
  },
  {
   "cell_type": "markdown",
   "metadata": {},
   "source": [
    "### 随机森林回归分析"
   ]
  },
  {
   "cell_type": "code",
   "execution_count": 67,
   "metadata": {},
   "outputs": [
    {
     "name": "stdout",
     "output_type": "stream",
     "text": [
      "Best parameters for MAE: {'max_depth': 10, 'n_estimators': 300}\n",
      "MAE of the best model: 32.350723358896886\n",
      "MSE of the best model: 2626.1485702626\n"
     ]
    }
   ],
   "source": [
    "from sklearn.model_selection import GridSearchCV\n",
    "from sklearn.ensemble import RandomForestRegressor\n",
    "from sklearn.metrics import make_scorer, mean_absolute_error, mean_squared_error\n",
    "from sklearn.datasets import make_regression\n",
    "# 创建随机森林回归模型\n",
    "rf = RandomForestRegressor(random_state=42, max_features='log2')\n",
    "\n",
    "# 定义要遍历的参数网格\n",
    "param_grid = {\n",
    "    'n_estimators': [100, 200, 300],\n",
    "    'max_depth': [None, 10, 20],\n",
    "}\n",
    "\n",
    "# 使用make_scorer包装MAE和MSE为评分函数\n",
    "scoring_functions = {\n",
    "    'MAE': make_scorer(mean_absolute_error, greater_is_better=False),\n",
    "    'MSE': make_scorer(mean_squared_error, greater_is_better=False)\n",
    "}\n",
    "\n",
    "# 创建GridSearchCV实例，设置评分标准为MAE\n",
    "grid_search = GridSearchCV(estimator=rf, param_grid=param_grid, cv=5, scoring=scoring_functions, refit='MAE')\n",
    "\n",
    "# 执行网格搜索\n",
    "grid_search.fit(train_input, train_target)\n",
    "\n",
    "# 输出最佳参数\n",
    "print(\"Best parameters for MAE:\", grid_search.best_params_)\n",
    "\n",
    "# 评估最佳模型的MSE\n",
    "best_model = grid_search.best_estimator_\n",
    "predictions = best_model.predict(test_input)\n",
    "mae_score = mean_absolute_error(test_target, predictions)\n",
    "mse_score = mean_squared_error(test_target, predictions)\n",
    "print(\"MAE of the best model:\", mae_score)\n",
    "print(\"MSE of the best model:\", mse_score)"
   ]
  },
  {
   "cell_type": "markdown",
   "metadata": {},
   "source": [
    "### 保存PCA模型以及三个机器学习模型"
   ]
  },
  {
   "cell_type": "code",
   "execution_count": 69,
   "metadata": {},
   "outputs": [
    {
     "data": {
      "text/plain": [
       "['wlv_rfr.joblib']"
      ]
     },
     "execution_count": 69,
     "metadata": {},
     "output_type": "execute_result"
    }
   ],
   "source": [
    "from joblib import dump\n",
    "# 保存PCA模型\n",
    "dump(pca, 'wlv_pca.joblib')\n",
    "# 保存多元线性回归模型\n",
    "dump(model, 'wlv_mlr.joblib')\n",
    "# 保存支持向量回归模型\n",
    "dump(best_svr, 'wlv_svr.joblib')\n",
    "# 保存随机森林回归模型\n",
    "dump(best_model, 'wlv_rfr.joblib')"
   ]
  },
  {
   "cell_type": "markdown",
   "metadata": {},
   "source": [
    "## 对WST进行分析"
   ]
  },
  {
   "cell_type": "code",
   "execution_count": 16,
   "metadata": {},
   "outputs": [
    {
     "name": "stdout",
     "output_type": "stream",
     "text": [
      "           0         1         2         3         4         5         6   \\\n",
      "0   -1.354594 -1.507504 -0.205844 -0.361195  1.151826  1.040255 -1.117524   \n",
      "1   -1.354594 -1.507504 -0.090752 -0.364059  0.693027  1.301414  0.105247   \n",
      "2   -1.354594 -1.507504  0.024341 -0.363915  0.796180  0.153606 -0.326192   \n",
      "3   -1.354594 -1.507504  0.139433 -0.363871  1.091502  0.986174 -0.255548   \n",
      "4   -1.354594 -1.507504  0.254525 -0.363915  1.320972  1.580624  0.623751   \n",
      "..        ...       ...       ...       ...       ...       ...       ...   \n",
      "372  1.342856  1.563635 -1.011490 -0.364059  0.782244 -0.033658 -0.266704   \n",
      "373  1.342856  1.563635 -0.896398 -0.363934  0.381310 -0.214527  1.272452   \n",
      "374  1.342856  1.563635 -0.781305 -0.363733  0.067729 -0.488764 -0.178705   \n",
      "375  1.342856  1.563635 -0.666213 -0.363819  0.321773 -0.607183 -1.123517   \n",
      "376  1.342856  1.563635 -0.551121 -0.337901  0.066683 -0.531393 -1.694155   \n",
      "\n",
      "           7         8         9   ...        82        83        84  \\\n",
      "0    0.669846 -1.641926 -1.353736  ... -1.072844 -1.295151 -1.354594   \n",
      "1   -0.467471 -1.608570 -1.352437  ... -1.072121 -1.291619 -1.354594   \n",
      "2   -1.313265 -1.575214 -1.351137  ... -1.071640 -1.291619 -1.354594   \n",
      "3    0.629790 -1.525180 -1.349837  ... -1.070676 -1.291619 -1.354594   \n",
      "4    0.753326 -1.491824 -1.347238  ... -1.069713 -1.288088 -1.354594   \n",
      "..        ...       ...       ...  ...       ...       ...       ...   \n",
      "372  0.849104  1.426811  0.760752  ...  1.698357  0.784819  1.342856   \n",
      "373  0.658738  1.426811  0.751654  ...  1.741224  0.721254  1.342856   \n",
      "374  0.484268  1.426811  0.742557  ...  1.783128  0.650627  1.342856   \n",
      "375 -1.509487  1.460167  0.733459  ...  1.808656  0.505842  1.342856   \n",
      "376  0.068601  1.493523  0.725662  ...  1.834665  0.392838  1.342856   \n",
      "\n",
      "           85        86        87        88        89        90        91  \n",
      "0   -1.507504  0.484710 -0.131486 -0.430248  0.665832  0.001862  0.908522  \n",
      "1   -1.507504  0.599802 -0.297800  0.888695  0.589050  1.228621 -0.937493  \n",
      "2   -1.507504  0.714894 -0.364059  1.260997  0.754401  0.226298 -0.815109  \n",
      "3   -1.507504  0.829987 -0.363893  1.480950  1.220022 -0.202146 -0.007036  \n",
      "4   -1.507504  0.945079 -0.363871  1.312854  1.253320  1.714708  0.494758  \n",
      "..        ...       ...       ...       ...       ...       ...       ...  \n",
      "372  1.563635 -0.320936 -0.363723  0.084670 -1.377598  2.367003 -1.213873  \n",
      "373  1.563635 -0.205844 -0.117720 -1.060200 -1.639211  2.177904 -1.430573  \n",
      "374  1.563635 -0.090752 -0.290707 -0.943496 -1.818115  2.434369 -1.622055  \n",
      "375  1.563635  0.024341 -0.363915  0.288100 -0.909952 -1.163785  0.454334  \n",
      "376  1.563635  0.139433 -0.363944  0.345894 -0.219902 -0.240720  0.510986  \n",
      "\n",
      "[377 rows x 92 columns]\n",
      "           A1        A2        A3        A4\n",
      "0   -8.923370  3.475957  0.955957  0.074952\n",
      "1   -8.788714  3.313476  0.993746  0.356990\n",
      "2   -8.744280  3.267459  1.029864  0.710601\n",
      "3   -8.803130  3.359887  0.916575  1.079224\n",
      "4   -8.746625  3.310366  0.940714  1.443884\n",
      "..        ...       ...       ...       ...\n",
      "372  8.166465 -3.754293  2.305847 -0.929926\n",
      "373  8.422169 -4.041522  2.512032 -0.645723\n",
      "374  8.641887 -4.297342  2.758575 -0.316177\n",
      "375  8.615120 -4.357923  3.149509  0.274103\n",
      "376  8.528176 -4.317800  3.548927  0.850766\n",
      "\n",
      "[377 rows x 4 columns]\n"
     ]
    }
   ],
   "source": [
    "print(train_input)\n",
    "print(train_pca)"
   ]
  },
  {
   "cell_type": "code",
   "execution_count": 17,
   "metadata": {},
   "outputs": [
    {
     "name": "stdout",
     "output_type": "stream",
     "text": [
      "0         6\n",
      "1         7\n",
      "2         8\n",
      "3        10\n",
      "4        12\n",
      "       ... \n",
      "372    1489\n",
      "373    1460\n",
      "374    1432\n",
      "375    1404\n",
      "376    1376\n",
      "Name: wst, Length: 377, dtype: int64\n"
     ]
    }
   ],
   "source": [
    "train_target = train['wst'][6:].reset_index(drop=True)\n",
    "print(train_target)"
   ]
  },
  {
   "cell_type": "code",
   "execution_count": 18,
   "metadata": {},
   "outputs": [
    {
     "name": "stdout",
     "output_type": "stream",
     "text": [
      "          0         1         2         3         4         5         6   \\\n",
      "0   2.242006 -1.507504 -0.205844 -0.363902  1.419076  0.833424  0.044161   \n",
      "1   2.242006 -1.507504 -0.090752 -0.363972  1.585420  1.729279  1.099721   \n",
      "2   2.242006 -1.507504  0.024341 -0.359081  0.565932  1.558815  0.489395   \n",
      "3   2.242006 -1.507504  0.139433 -0.356173 -0.063463  0.012878  0.927684   \n",
      "4   2.242006 -1.507504  0.254525 -0.294781 -0.153033 -0.033810 -0.088087   \n",
      "..       ...       ...       ...       ...       ...       ...       ...   \n",
      "78  2.242006  0.539922  1.750725 -0.348902  0.599936 -0.168206  1.475512   \n",
      "79  2.242006  1.563635 -1.702044 -0.329156 -0.049607 -0.065389 -0.397330   \n",
      "80  2.242006  1.563635 -1.586952 -0.352352  0.068665  0.081952  0.514887   \n",
      "81  2.242006  1.563635 -1.471859 -0.362841  0.486825  0.249230  1.313335   \n",
      "82  2.242006  1.563635 -1.356767 -0.360863  0.415069  0.315731 -0.759488   \n",
      "\n",
      "          7         8         9   ...        82        83        84        85  \\\n",
      "0   0.309373 -1.641926 -1.353736  ... -1.072844 -1.295151  2.242006 -1.507504   \n",
      "1   0.507839 -1.608570 -1.352437  ... -1.072603 -1.291619  2.242006 -1.507504   \n",
      "2   0.501820 -1.575214 -1.351137  ... -1.071640 -1.291619  2.242006 -1.507504   \n",
      "3   0.525158 -1.541858 -1.348538  ... -1.070676 -1.291619  2.242006 -1.507504   \n",
      "4   0.152740 -1.508502 -1.347238  ... -1.069472 -1.288088  2.242006 -1.507504   \n",
      "..       ...       ...       ...  ...       ...       ...       ...       ...   \n",
      "78  0.554834  1.310065  0.850426  ...  1.830812  0.876634  2.242006  1.563635   \n",
      "79 -0.643871  1.343421  0.838729  ...  1.872957  0.770693  2.242006  1.563635   \n",
      "80  0.610514  1.393455  0.827032  ...  1.916065  0.615314  2.242006  1.563635   \n",
      "81  0.659220  1.426811  0.815336  ...  1.956764  0.459934  2.242006  1.563635   \n",
      "82  0.082833  1.460167  0.804939  ...  1.994815  0.301023  2.242006  1.563635   \n",
      "\n",
      "          86        87        88        89        90        91  \n",
      "0   0.484710 -0.363959  1.323638  0.285581 -1.543095  1.652057  \n",
      "1   0.599802 -0.364007  1.577573  1.469724 -1.106386  1.344815  \n",
      "2   0.714894 -0.363880  1.630594  1.868401  0.680330  0.729164  \n",
      "3   0.829987 -0.363745  1.472592  1.958218  1.354014  0.673783  \n",
      "4   0.945079 -0.363850  1.261073  1.547786  0.511799 -0.003095  \n",
      "..       ...       ...       ...       ...       ...       ...  \n",
      "78 -1.126582 -0.363802  0.519839  0.220168  0.533679 -0.793568  \n",
      "79 -1.011490 -0.363749  0.300897  0.572328 -0.565383  0.527650  \n",
      "80 -0.896398 -0.359033  0.087682  0.340747 -0.286552  0.508475  \n",
      "81 -0.781305 -0.178036 -0.167526 -0.334918 -0.403759 -1.038435  \n",
      "82 -0.666213 -0.338108 -0.451860 -0.384587 -1.389729 -1.060311  \n",
      "\n",
      "[83 rows x 92 columns]\n",
      "          A1        A2        A3        A4\n",
      "0  -8.330938 -5.916946 -0.216274  0.224149\n",
      "1  -8.409508 -5.854087 -0.180619  0.779088\n",
      "2  -8.459547 -5.834605 -0.179471  1.062774\n",
      "3  -8.524422 -5.821450 -0.222027  1.108375\n",
      "4  -8.678759 -5.744631 -0.585004  0.973253\n",
      "..       ...       ...       ...       ...\n",
      "78  8.428658 -5.849822  1.359394 -2.162146\n",
      "79  8.575315 -5.856906  1.760845 -2.958503\n",
      "80  8.524098 -5.814134  1.897541 -2.643946\n",
      "81  8.472968 -5.922044  2.022408 -2.374856\n",
      "82  8.367941 -6.019417  2.150598 -2.118525\n",
      "\n",
      "[83 rows x 4 columns]\n"
     ]
    }
   ],
   "source": [
    "# 处理测试集\n",
    "print(test_input)\n",
    "print(test_pca)"
   ]
  },
  {
   "cell_type": "code",
   "execution_count": 19,
   "metadata": {},
   "outputs": [
    {
     "name": "stdout",
     "output_type": "stream",
     "text": [
      "0        6\n",
      "1        7\n",
      "2        8\n",
      "3       10\n",
      "4       12\n",
      "      ... \n",
      "78    1716\n",
      "79    1683\n",
      "80    1651\n",
      "81    1619\n",
      "82    1586\n",
      "Name: wst, Length: 83, dtype: int64\n"
     ]
    }
   ],
   "source": [
    "test_target = test['wst'][6:].reset_index(drop=True)\n",
    "print(test_target)"
   ]
  },
  {
   "cell_type": "markdown",
   "metadata": {},
   "source": [
    "### 多元回归分析"
   ]
  },
  {
   "cell_type": "code",
   "execution_count": 20,
   "metadata": {},
   "outputs": [
    {
     "data": {
      "text/html": [
       "<style>#sk-container-id-2 {color: black;}#sk-container-id-2 pre{padding: 0;}#sk-container-id-2 div.sk-toggleable {background-color: white;}#sk-container-id-2 label.sk-toggleable__label {cursor: pointer;display: block;width: 100%;margin-bottom: 0;padding: 0.3em;box-sizing: border-box;text-align: center;}#sk-container-id-2 label.sk-toggleable__label-arrow:before {content: \"▸\";float: left;margin-right: 0.25em;color: #696969;}#sk-container-id-2 label.sk-toggleable__label-arrow:hover:before {color: black;}#sk-container-id-2 div.sk-estimator:hover label.sk-toggleable__label-arrow:before {color: black;}#sk-container-id-2 div.sk-toggleable__content {max-height: 0;max-width: 0;overflow: hidden;text-align: left;background-color: #f0f8ff;}#sk-container-id-2 div.sk-toggleable__content pre {margin: 0.2em;color: black;border-radius: 0.25em;background-color: #f0f8ff;}#sk-container-id-2 input.sk-toggleable__control:checked~div.sk-toggleable__content {max-height: 200px;max-width: 100%;overflow: auto;}#sk-container-id-2 input.sk-toggleable__control:checked~label.sk-toggleable__label-arrow:before {content: \"▾\";}#sk-container-id-2 div.sk-estimator input.sk-toggleable__control:checked~label.sk-toggleable__label {background-color: #d4ebff;}#sk-container-id-2 div.sk-label input.sk-toggleable__control:checked~label.sk-toggleable__label {background-color: #d4ebff;}#sk-container-id-2 input.sk-hidden--visually {border: 0;clip: rect(1px 1px 1px 1px);clip: rect(1px, 1px, 1px, 1px);height: 1px;margin: -1px;overflow: hidden;padding: 0;position: absolute;width: 1px;}#sk-container-id-2 div.sk-estimator {font-family: monospace;background-color: #f0f8ff;border: 1px dotted black;border-radius: 0.25em;box-sizing: border-box;margin-bottom: 0.5em;}#sk-container-id-2 div.sk-estimator:hover {background-color: #d4ebff;}#sk-container-id-2 div.sk-parallel-item::after {content: \"\";width: 100%;border-bottom: 1px solid gray;flex-grow: 1;}#sk-container-id-2 div.sk-label:hover label.sk-toggleable__label {background-color: #d4ebff;}#sk-container-id-2 div.sk-serial::before {content: \"\";position: absolute;border-left: 1px solid gray;box-sizing: border-box;top: 0;bottom: 0;left: 50%;z-index: 0;}#sk-container-id-2 div.sk-serial {display: flex;flex-direction: column;align-items: center;background-color: white;padding-right: 0.2em;padding-left: 0.2em;position: relative;}#sk-container-id-2 div.sk-item {position: relative;z-index: 1;}#sk-container-id-2 div.sk-parallel {display: flex;align-items: stretch;justify-content: center;background-color: white;position: relative;}#sk-container-id-2 div.sk-item::before, #sk-container-id-2 div.sk-parallel-item::before {content: \"\";position: absolute;border-left: 1px solid gray;box-sizing: border-box;top: 0;bottom: 0;left: 50%;z-index: -1;}#sk-container-id-2 div.sk-parallel-item {display: flex;flex-direction: column;z-index: 1;position: relative;background-color: white;}#sk-container-id-2 div.sk-parallel-item:first-child::after {align-self: flex-end;width: 50%;}#sk-container-id-2 div.sk-parallel-item:last-child::after {align-self: flex-start;width: 50%;}#sk-container-id-2 div.sk-parallel-item:only-child::after {width: 0;}#sk-container-id-2 div.sk-dashed-wrapped {border: 1px dashed gray;margin: 0 0.4em 0.5em 0.4em;box-sizing: border-box;padding-bottom: 0.4em;background-color: white;}#sk-container-id-2 div.sk-label label {font-family: monospace;font-weight: bold;display: inline-block;line-height: 1.2em;}#sk-container-id-2 div.sk-label-container {text-align: center;}#sk-container-id-2 div.sk-container {/* jupyter's `normalize.less` sets `[hidden] { display: none; }` but bootstrap.min.css set `[hidden] { display: none !important; }` so we also need the `!important` here to be able to override the default hidden behavior on the sphinx rendered scikit-learn.org. See: https://github.com/scikit-learn/scikit-learn/issues/21755 */display: inline-block !important;position: relative;}#sk-container-id-2 div.sk-text-repr-fallback {display: none;}</style><div id=\"sk-container-id-2\" class=\"sk-top-container\"><div class=\"sk-text-repr-fallback\"><pre>LinearRegression()</pre><b>In a Jupyter environment, please rerun this cell to show the HTML representation or trust the notebook. <br />On GitHub, the HTML representation is unable to render, please try loading this page with nbviewer.org.</b></div><div class=\"sk-container\" hidden><div class=\"sk-item\"><div class=\"sk-estimator sk-toggleable\"><input class=\"sk-toggleable__control sk-hidden--visually\" id=\"sk-estimator-id-2\" type=\"checkbox\" checked><label for=\"sk-estimator-id-2\" class=\"sk-toggleable__label sk-toggleable__label-arrow\">LinearRegression</label><div class=\"sk-toggleable__content\"><pre>LinearRegression()</pre></div></div></div></div></div>"
      ],
      "text/plain": [
       "LinearRegression()"
      ]
     },
     "execution_count": 20,
     "metadata": {},
     "output_type": "execute_result"
    }
   ],
   "source": [
    "# 进行多元回归分析\n",
    "import numpy as np\n",
    "import pandas as pd\n",
    "from sklearn.linear_model import LinearRegression\n",
    "import matplotlib.pyplot as plt\n",
    "model = LinearRegression()\n",
    "model.fit(train_pca, train_target)"
   ]
  },
  {
   "cell_type": "code",
   "execution_count": 21,
   "metadata": {},
   "outputs": [
    {
     "name": "stdout",
     "output_type": "stream",
     "text": [
      "Coefficients: [ 117.20122796   36.73679604 -178.3051426     0.73434662]\n",
      "Intercept: 1138.3527851458887\n"
     ]
    }
   ],
   "source": [
    "# 查看回归系数\n",
    "print(f'Coefficients: {model.coef_}')\n",
    "\n",
    "# 查看截距\n",
    "print(f'Intercept: {model.intercept_}')"
   ]
  },
  {
   "cell_type": "code",
   "execution_count": 22,
   "metadata": {},
   "outputs": [
    {
     "name": "stdout",
     "output_type": "stream",
     "text": [
      "R-squared: 0.9792377037195674\n",
      "MAE: 107.92125483105583\n",
      "MSE: 17303.88976954353\n"
     ]
    },
    {
     "data": {
      "image/png": "[encoded data removed]",
      "text/plain": [
       "<Figure size 640x480 with 1 Axes>"
      ]
     },
     "metadata": {},
     "output_type": "display_data"
    }
   ],
   "source": [
    "# 预测\n",
    "predictions = model.predict(test_pca)\n",
    "\n",
    "# 计算R平方\n",
    "r_squared = model.score(test_pca, test_target)\n",
    "print(f'R-squared: {r_squared}')\n",
    "\n",
    "# 计算MAE MSE\n",
    "from sklearn.metrics import mean_absolute_error, mean_squared_error\n",
    "\n",
    "mae = mean_absolute_error(test_target, predictions)\n",
    "\n",
    "mse = mean_squared_error(test_target, predictions)\n",
    "\n",
    "print(f\"MAE: {mae}\")\n",
    "print(f\"MSE: {mse}\")\n",
    "\n",
    "# 可视化\n",
    "import matplotlib.pyplot as plt\n",
    "plt.scatter(test_target, predictions)\n",
    "plt.xlabel('Actual values')\n",
    "plt.ylabel('Predicted values')\n",
    "plt.title('Actual vs. Predicted Values')\n",
    "plt.show() "
   ]
  },
  {
   "cell_type": "markdown",
   "metadata": {},
   "source": [
    "### 支持向量回归分析"
   ]
  },
  {
   "cell_type": "code",
   "execution_count": 23,
   "metadata": {},
   "outputs": [
    {
     "name": "stdout",
     "output_type": "stream",
     "text": [
      "Best parameters: {'C': 10, 'epsilon': 0.1, 'gamma': 'scale', 'kernel': 'linear'}\n",
      "MAE of the best model: 107.3070297556428\n",
      "MSE of the best model: 18805.388451394032\n"
     ]
    }
   ],
   "source": [
    "from sklearn.model_selection import GridSearchCV\n",
    "from sklearn.svm import SVR\n",
    "from sklearn.metrics import make_scorer, mean_absolute_error, mean_squared_error\n",
    "\n",
    "# 创建SVR模型实例\n",
    "svr = SVR()\n",
    "\n",
    "# 定义参数网格\n",
    "param_grid = {\n",
    "    'C': [0.1, 1, 10],\n",
    "    'epsilon': [0.1, 0.2, 0.5],\n",
    "    'kernel': ['rbf', 'linear'],\n",
    "    'gamma': ['scale', 'auto']  # 仅在kernel为非线性时有效\n",
    "}\n",
    "\n",
    "# 为MAE创建评分函数\n",
    "mae_scorer = make_scorer(mean_absolute_error, greater_is_better=False)\n",
    "\n",
    "# 为MSE创建评分函数\n",
    "mse_scorer = make_scorer(mean_squared_error, greater_is_better=False)\n",
    "\n",
    "# 创建GridSearchCV实例，这里我们使用MSE作为refit标准\n",
    "grid_search = GridSearchCV(estimator=svr, param_grid=param_grid, cv=5, scoring={'mae': mae_scorer, 'mse': mse_scorer}, refit='mse')\n",
    "\n",
    "# 执行网格搜索\n",
    "grid_search.fit(train_pca, train_target)\n",
    "\n",
    "# 输出最佳参数\n",
    "print(\"Best parameters:\", grid_search.best_params_)\n",
    "\n",
    "# 使用最佳参数的模型\n",
    "best_svr = grid_search.best_estimator_\n",
    "\n",
    "# 评估最佳模型的MSE MAE\n",
    "predictions = best_svr.predict(test_pca)\n",
    "mae_score = mean_absolute_error(test_target, predictions)\n",
    "mse_score = mean_squared_error(test_target, predictions)\n",
    "print(\"MAE of the best model:\", mae_score)\n",
    "print(\"MSE of the best model:\", mse_score)"
   ]
  },
  {
   "cell_type": "markdown",
   "metadata": {},
   "source": [
    "### 随机森林回归分析"
   ]
  },
  {
   "cell_type": "code",
   "execution_count": 82,
   "metadata": {},
   "outputs": [
    {
     "name": "stdout",
     "output_type": "stream",
     "text": [
      "Best parameters for MAE: {'max_depth': None, 'n_estimators': 200}\n",
      "MAE of the best model: 36.74963855421685\n",
      "MSE of the best model: 3658.371569277108\n"
     ]
    }
   ],
   "source": [
    "from sklearn.model_selection import GridSearchCV\n",
    "from sklearn.ensemble import RandomForestRegressor\n",
    "from sklearn.metrics import make_scorer, mean_absolute_error, mean_squared_error\n",
    "from sklearn.datasets import make_regression\n",
    "# 创建随机森林回归模型\n",
    "rf = RandomForestRegressor(random_state=42, max_features='log2')\n",
    "\n",
    "# 定义要遍历的参数网格\n",
    "param_grid = {\n",
    "    'n_estimators': [100, 200, 300],\n",
    "    'max_depth': [None, 10, 20],\n",
    "}\n",
    "\n",
    "# 使用make_scorer包装MAE和MSE为评分函数\n",
    "scoring_functions = {\n",
    "    'MAE': make_scorer(mean_absolute_error, greater_is_better=False),\n",
    "    'MSE': make_scorer(mean_squared_error, greater_is_better=False)\n",
    "}\n",
    "\n",
    "# 创建GridSearchCV实例，设置评分标准为MAE\n",
    "grid_search = GridSearchCV(estimator=rf, param_grid=param_grid, cv=5, scoring=scoring_functions, refit='MAE')\n",
    "\n",
    "# 执行网格搜索\n",
    "grid_search.fit(train_input, train_target)\n",
    "\n",
    "# 输出最佳参数\n",
    "print(\"Best parameters for MAE:\", grid_search.best_params_)\n",
    "\n",
    "# 评估最佳模型的MSE\n",
    "best_model = grid_search.best_estimator_\n",
    "predictions = best_model.predict(test_input)\n",
    "mae_score = mean_absolute_error(test_target, predictions)\n",
    "mse_score = mean_squared_error(test_target, predictions)\n",
    "print(\"MAE of the best model:\", mae_score)\n",
    "print(\"MSE of the best model:\", mse_score)"
   ]
  },
  {
   "cell_type": "markdown",
   "metadata": {},
   "source": [
    "### 保存三个机器学习模型"
   ]
  },
  {
   "cell_type": "code",
   "execution_count": 84,
   "metadata": {},
   "outputs": [
    {
     "data": {
      "text/plain": [
       "['wst_rfr.joblib']"
      ]
     },
     "execution_count": 84,
     "metadata": {},
     "output_type": "execute_result"
    }
   ],
   "source": [
    "from joblib import dump\n",
    "# 保存多元线性回归模型\n",
    "dump(model, 'wst_mlr.joblib')\n",
    "# 保存支持向量回归模型\n",
    "dump(svr, 'wst_svr.joblib')\n",
    "# 保存随机森林回归模型\n",
    "dump(best_model, 'wst_rfr.joblib')"
   ]
  },
  {
   "cell_type": "markdown",
   "metadata": {},
   "source": [
    "## 对WSO进行分析"
   ]
  },
  {
   "cell_type": "code",
   "execution_count": 105,
   "metadata": {},
   "outputs": [
    {
     "name": "stdout",
     "output_type": "stream",
     "text": [
      "0         0\n",
      "1         0\n",
      "2         0\n",
      "3         0\n",
      "4         0\n",
      "       ... \n",
      "372    7151\n",
      "373    7324\n",
      "374    7429\n",
      "375    7537\n",
      "376    7691\n",
      "Name: wso, Length: 377, dtype: int64\n",
      "0        0\n",
      "1        0\n",
      "2        0\n",
      "3        0\n",
      "4        0\n",
      "      ... \n",
      "78    7483\n",
      "79    7659\n",
      "80    7827\n",
      "81    7985\n",
      "82    8131\n",
      "Name: wso, Length: 83, dtype: int64\n"
     ]
    }
   ],
   "source": [
    "train_target = train['wso'][6:].reset_index(drop=True)\n",
    "print(train_target)\n",
    "test_target = test['wso'][6:].reset_index(drop=True)\n",
    "print(test_target)"
   ]
  },
  {
   "cell_type": "markdown",
   "metadata": {},
   "source": [
    "### 多元回归分析"
   ]
  },
  {
   "cell_type": "code",
   "execution_count": 106,
   "metadata": {},
   "outputs": [
    {
     "data": {
      "text/html": [
       "<style>#sk-container-id-16 {color: black;}#sk-container-id-16 pre{padding: 0;}#sk-container-id-16 div.sk-toggleable {background-color: white;}#sk-container-id-16 label.sk-toggleable__label {cursor: pointer;display: block;width: 100%;margin-bottom: 0;padding: 0.3em;box-sizing: border-box;text-align: center;}#sk-container-id-16 label.sk-toggleable__label-arrow:before {content: \"▸\";float: left;margin-right: 0.25em;color: #696969;}#sk-container-id-16 label.sk-toggleable__label-arrow:hover:before {color: black;}#sk-container-id-16 div.sk-estimator:hover label.sk-toggleable__label-arrow:before {color: black;}#sk-container-id-16 div.sk-toggleable__content {max-height: 0;max-width: 0;overflow: hidden;text-align: left;background-color: #f0f8ff;}#sk-container-id-16 div.sk-toggleable__content pre {margin: 0.2em;color: black;border-radius: 0.25em;background-color: #f0f8ff;}#sk-container-id-16 input.sk-toggleable__control:checked~div.sk-toggleable__content {max-height: 200px;max-width: 100%;overflow: auto;}#sk-container-id-16 input.sk-toggleable__control:checked~label.sk-toggleable__label-arrow:before {content: \"▾\";}#sk-container-id-16 div.sk-estimator input.sk-toggleable__control:checked~label.sk-toggleable__label {background-color: #d4ebff;}#sk-container-id-16 div.sk-label input.sk-toggleable__control:checked~label.sk-toggleable__label {background-color: #d4ebff;}#sk-container-id-16 input.sk-hidden--visually {border: 0;clip: rect(1px 1px 1px 1px);clip: rect(1px, 1px, 1px, 1px);height: 1px;margin: -1px;overflow: hidden;padding: 0;position: absolute;width: 1px;}#sk-container-id-16 div.sk-estimator {font-family: monospace;background-color: #f0f8ff;border: 1px dotted black;border-radius: 0.25em;box-sizing: border-box;margin-bottom: 0.5em;}#sk-container-id-16 div.sk-estimator:hover {background-color: #d4ebff;}#sk-container-id-16 div.sk-parallel-item::after {content: \"\";width: 100%;border-bottom: 1px solid gray;flex-grow: 1;}#sk-container-id-16 div.sk-label:hover label.sk-toggleable__label {background-color: #d4ebff;}#sk-container-id-16 div.sk-serial::before {content: \"\";position: absolute;border-left: 1px solid gray;box-sizing: border-box;top: 0;bottom: 0;left: 50%;z-index: 0;}#sk-container-id-16 div.sk-serial {display: flex;flex-direction: column;align-items: center;background-color: white;padding-right: 0.2em;padding-left: 0.2em;position: relative;}#sk-container-id-16 div.sk-item {position: relative;z-index: 1;}#sk-container-id-16 div.sk-parallel {display: flex;align-items: stretch;justify-content: center;background-color: white;position: relative;}#sk-container-id-16 div.sk-item::before, #sk-container-id-16 div.sk-parallel-item::before {content: \"\";position: absolute;border-left: 1px solid gray;box-sizing: border-box;top: 0;bottom: 0;left: 50%;z-index: -1;}#sk-container-id-16 div.sk-parallel-item {display: flex;flex-direction: column;z-index: 1;position: relative;background-color: white;}#sk-container-id-16 div.sk-parallel-item:first-child::after {align-self: flex-end;width: 50%;}#sk-container-id-16 div.sk-parallel-item:last-child::after {align-self: flex-start;width: 50%;}#sk-container-id-16 div.sk-parallel-item:only-child::after {width: 0;}#sk-container-id-16 div.sk-dashed-wrapped {border: 1px dashed gray;margin: 0 0.4em 0.5em 0.4em;box-sizing: border-box;padding-bottom: 0.4em;background-color: white;}#sk-container-id-16 div.sk-label label {font-family: monospace;font-weight: bold;display: inline-block;line-height: 1.2em;}#sk-container-id-16 div.sk-label-container {text-align: center;}#sk-container-id-16 div.sk-container {/* jupyter's `normalize.less` sets `[hidden] { display: none; }` but bootstrap.min.css set `[hidden] { display: none !important; }` so we also need the `!important` here to be able to override the default hidden behavior on the sphinx rendered scikit-learn.org. See: https://github.com/scikit-learn/scikit-learn/issues/21755 */display: inline-block !important;position: relative;}#sk-container-id-16 div.sk-text-repr-fallback {display: none;}</style><div id=\"sk-container-id-16\" class=\"sk-top-container\"><div class=\"sk-text-repr-fallback\"><pre>LinearRegression()</pre><b>In a Jupyter environment, please rerun this cell to show the HTML representation or trust the notebook. <br />On GitHub, the HTML representation is unable to render, please try loading this page with nbviewer.org.</b></div><div class=\"sk-container\" hidden><div class=\"sk-item\"><div class=\"sk-estimator sk-toggleable\"><input class=\"sk-toggleable__control sk-hidden--visually\" id=\"sk-estimator-id-16\" type=\"checkbox\" checked><label for=\"sk-estimator-id-16\" class=\"sk-toggleable__label sk-toggleable__label-arrow\">LinearRegression</label><div class=\"sk-toggleable__content\"><pre>LinearRegression()</pre></div></div></div></div></div>"
      ],
      "text/plain": [
       "LinearRegression()"
      ]
     },
     "execution_count": 106,
     "metadata": {},
     "output_type": "execute_result"
    }
   ],
   "source": [
    "# 进行多元回归分析\n",
    "import numpy as np\n",
    "import pandas as pd\n",
    "from sklearn.linear_model import LinearRegression\n",
    "import matplotlib.pyplot as plt\n",
    "model = LinearRegression()\n",
    "model.fit(train_pca, train_target)"
   ]
  },
  {
   "cell_type": "code",
   "execution_count": 107,
   "metadata": {},
   "outputs": [
    {
     "name": "stdout",
     "output_type": "stream",
     "text": [
      "Coefficients: [360.36547149 -55.07084897 263.98140032  90.70602786]\n",
      "Intercept: 2017.310344827586\n"
     ]
    }
   ],
   "source": [
    "# 查看回归系数\n",
    "print(f'Coefficients: {model.coef_}')\n",
    "\n",
    "# 查看截距\n",
    "print(f'Intercept: {model.intercept_}')"
   ]
  },
  {
   "cell_type": "code",
   "execution_count": 108,
   "metadata": {},
   "outputs": [
    {
     "name": "stdout",
     "output_type": "stream",
     "text": [
      "R-squared: 0.8789069488127357\n",
      "MAE: 796.6423371732309\n",
      "MSE: 928133.5011933836\n"
     ]
    },
    {
     "data": {
      "image/png": "[encoded data removed]",
      "text/plain": [
       "<Figure size 640x480 with 1 Axes>"
      ]
     },
     "metadata": {},
     "output_type": "display_data"
    }
   ],
   "source": [
    "# 预测\n",
    "predictions = model.predict(test_pca)\n",
    "\n",
    "# 计算R平方\n",
    "r_squared = model.score(test_pca, test_target)\n",
    "print(f'R-squared: {r_squared}')\n",
    "\n",
    "# 计算MAE MSE\n",
    "from sklearn.metrics import mean_absolute_error, mean_squared_error\n",
    "\n",
    "mae = mean_absolute_error(test_target, predictions)\n",
    "\n",
    "mse = mean_squared_error(test_target, predictions)\n",
    "\n",
    "print(f\"MAE: {mae}\")\n",
    "print(f\"MSE: {mse}\")\n",
    "\n",
    "# 可视化\n",
    "import matplotlib.pyplot as plt\n",
    "plt.scatter(test_target, predictions)\n",
    "plt.xlabel('Actual values')\n",
    "plt.ylabel('Predicted values')\n",
    "plt.title('Actual vs. Predicted Values')\n",
    "plt.show() "
   ]
  },
  {
   "cell_type": "markdown",
   "metadata": {},
   "source": [
    "### 支持向量回归分析"
   ]
  },
  {
   "cell_type": "code",
   "execution_count": 109,
   "metadata": {},
   "outputs": [
    {
     "name": "stdout",
     "output_type": "stream",
     "text": [
      "Best parameters: {'C': 1, 'epsilon': 0.5, 'gamma': 'scale', 'kernel': 'linear'}\n",
      "MAE of the best model: 717.7620203168508\n",
      "MSE of the best model: 807727.2664850055\n"
     ]
    }
   ],
   "source": [
    "from sklearn.model_selection import GridSearchCV\n",
    "from sklearn.svm import SVR\n",
    "from sklearn.metrics import make_scorer, mean_absolute_error, mean_squared_error\n",
    "\n",
    "# 创建SVR模型实例\n",
    "svr = SVR()\n",
    "\n",
    "# 定义参数网格\n",
    "param_grid = {\n",
    "    'C': [0.1, 1, 10],\n",
    "    'epsilon': [0.1, 0.2, 0.5],\n",
    "    'kernel': ['rbf', 'linear'],\n",
    "    'gamma': ['scale', 'auto']  # 仅在kernel为非线性时有效\n",
    "}\n",
    "\n",
    "# 为MAE创建评分函数\n",
    "mae_scorer = make_scorer(mean_absolute_error, greater_is_better=False)\n",
    "\n",
    "# 为MSE创建评分函数\n",
    "mse_scorer = make_scorer(mean_squared_error, greater_is_better=False)\n",
    "\n",
    "# 创建GridSearchCV实例，这里我们使用MSE作为refit标准\n",
    "grid_search = GridSearchCV(estimator=svr, param_grid=param_grid, cv=5, scoring={'mae': mae_scorer, 'mse': mse_scorer}, refit='mse')\n",
    "\n",
    "# 执行网格搜索\n",
    "grid_search.fit(train_pca, train_target)\n",
    "\n",
    "# 输出最佳参数\n",
    "print(\"Best parameters:\", grid_search.best_params_)\n",
    "\n",
    "# 使用最佳参数的模型\n",
    "best_svr = grid_search.best_estimator_\n",
    "\n",
    "# 评估最佳模型的MSE MAE\n",
    "predictions = best_svr.predict(test_pca)\n",
    "mae_score = mean_absolute_error(test_target, predictions)\n",
    "mse_score = mean_squared_error(test_target, predictions)\n",
    "print(\"MAE of the best model:\", mae_score)\n",
    "print(\"MSE of the best model:\", mse_score)"
   ]
  },
  {
   "cell_type": "markdown",
   "metadata": {},
   "source": [
    "### 随机森林回归分析"
   ]
  },
  {
   "cell_type": "code",
   "execution_count": 110,
   "metadata": {},
   "outputs": [
    {
     "name": "stdout",
     "output_type": "stream",
     "text": [
      "Best parameters for MAE: {'max_depth': 10, 'n_estimators': 100}\n",
      "MAE of the best model: 204.74838243449994\n",
      "MSE of the best model: 122692.6009317453\n"
     ]
    }
   ],
   "source": [
    "from sklearn.model_selection import GridSearchCV\n",
    "from sklearn.ensemble import RandomForestRegressor\n",
    "from sklearn.metrics import make_scorer, mean_absolute_error, mean_squared_error\n",
    "from sklearn.datasets import make_regression\n",
    "# 创建随机森林回归模型\n",
    "rf = RandomForestRegressor(random_state=42, max_features='log2')\n",
    "\n",
    "# 定义要遍历的参数网格\n",
    "param_grid = {\n",
    "    'n_estimators': [100, 200, 300],\n",
    "    'max_depth': [None, 10, 20],\n",
    "}\n",
    "\n",
    "# 使用make_scorer包装MAE和MSE为评分函数\n",
    "scoring_functions = {\n",
    "    'MAE': make_scorer(mean_absolute_error, greater_is_better=False),\n",
    "    'MSE': make_scorer(mean_squared_error, greater_is_better=False)\n",
    "}\n",
    "\n",
    "# 创建GridSearchCV实例，设置评分标准为MAE\n",
    "grid_search = GridSearchCV(estimator=rf, param_grid=param_grid, cv=5, scoring=scoring_functions, refit='MAE')\n",
    "\n",
    "# 执行网格搜索\n",
    "grid_search.fit(train_input, train_target)\n",
    "\n",
    "# 输出最佳参数\n",
    "print(\"Best parameters for MAE:\", grid_search.best_params_)\n",
    "\n",
    "# 评估最佳模型的MSE\n",
    "best_model = grid_search.best_estimator_\n",
    "predictions = best_model.predict(test_input)\n",
    "mae_score = mean_absolute_error(test_target, predictions)\n",
    "mse_score = mean_squared_error(test_target, predictions)\n",
    "print(\"MAE of the best model:\", mae_score)\n",
    "print(\"MSE of the best model:\", mse_score)"
   ]
  },
  {
   "cell_type": "markdown",
   "metadata": {},
   "source": [
    "### 保存三个机器学习模型"
   ]
  },
  {
   "cell_type": "code",
   "execution_count": 111,
   "metadata": {},
   "outputs": [
    {
     "data": {
      "text/plain": [
       "['wso_rfr.joblib']"
      ]
     },
     "execution_count": 111,
     "metadata": {},
     "output_type": "execute_result"
    }
   ],
   "source": [
    "from joblib import dump\n",
    "# 保存多元线性回归模型\n",
    "dump(model, 'wso_mlr.joblib')\n",
    "# 保存支持向量回归模型\n",
    "dump(best_svr, 'wso_svr.joblib')\n",
    "# 保存随机森林回归模型\n",
    "dump(best_model, 'wso_rfr.joblib')"
   ]
  },
  {
   "cell_type": "markdown",
   "metadata": {},
   "source": [
    "## 对DVS进行分析"
   ]
  },
  {
   "cell_type": "code",
   "execution_count": 112,
   "metadata": {},
   "outputs": [
    {
     "name": "stdout",
     "output_type": "stream",
     "text": [
      "0      0.13\n",
      "1      0.15\n",
      "2      0.17\n",
      "3      0.20\n",
      "4      0.22\n",
      "       ... \n",
      "372    1.93\n",
      "373    1.94\n",
      "374    1.96\n",
      "375    1.98\n",
      "376    2.00\n",
      "Name: dvs, Length: 377, dtype: float64\n",
      "0     0.12\n",
      "1     0.14\n",
      "2     0.16\n",
      "3     0.18\n",
      "4     0.21\n",
      "      ... \n",
      "78    1.92\n",
      "79    1.94\n",
      "80    1.96\n",
      "81    1.99\n",
      "82    2.02\n",
      "Name: dvs, Length: 83, dtype: float64\n"
     ]
    }
   ],
   "source": [
    "train_target = train['dvs'][6:].reset_index(drop=True)\n",
    "print(train_target)\n",
    "test_target = test['dvs'][6:].reset_index(drop=True)\n",
    "print(test_target)"
   ]
  },
  {
   "cell_type": "markdown",
   "metadata": {},
   "source": [
    "### 多元回归分析"
   ]
  },
  {
   "cell_type": "code",
   "execution_count": 113,
   "metadata": {},
   "outputs": [
    {
     "data": {
      "text/html": [
       "<style>#sk-container-id-17 {color: black;}#sk-container-id-17 pre{padding: 0;}#sk-container-id-17 div.sk-toggleable {background-color: white;}#sk-container-id-17 label.sk-toggleable__label {cursor: pointer;display: block;width: 100%;margin-bottom: 0;padding: 0.3em;box-sizing: border-box;text-align: center;}#sk-container-id-17 label.sk-toggleable__label-arrow:before {content: \"▸\";float: left;margin-right: 0.25em;color: #696969;}#sk-container-id-17 label.sk-toggleable__label-arrow:hover:before {color: black;}#sk-container-id-17 div.sk-estimator:hover label.sk-toggleable__label-arrow:before {color: black;}#sk-container-id-17 div.sk-toggleable__content {max-height: 0;max-width: 0;overflow: hidden;text-align: left;background-color: #f0f8ff;}#sk-container-id-17 div.sk-toggleable__content pre {margin: 0.2em;color: black;border-radius: 0.25em;background-color: #f0f8ff;}#sk-container-id-17 input.sk-toggleable__control:checked~div.sk-toggleable__content {max-height: 200px;max-width: 100%;overflow: auto;}#sk-container-id-17 input.sk-toggleable__control:checked~label.sk-toggleable__label-arrow:before {content: \"▾\";}#sk-container-id-17 div.sk-estimator input.sk-toggleable__control:checked~label.sk-toggleable__label {background-color: #d4ebff;}#sk-container-id-17 div.sk-label input.sk-toggleable__control:checked~label.sk-toggleable__label {background-color: #d4ebff;}#sk-container-id-17 input.sk-hidden--visually {border: 0;clip: rect(1px 1px 1px 1px);clip: rect(1px, 1px, 1px, 1px);height: 1px;margin: -1px;overflow: hidden;padding: 0;position: absolute;width: 1px;}#sk-container-id-17 div.sk-estimator {font-family: monospace;background-color: #f0f8ff;border: 1px dotted black;border-radius: 0.25em;box-sizing: border-box;margin-bottom: 0.5em;}#sk-container-id-17 div.sk-estimator:hover {background-color: #d4ebff;}#sk-container-id-17 div.sk-parallel-item::after {content: \"\";width: 100%;border-bottom: 1px solid gray;flex-grow: 1;}#sk-container-id-17 div.sk-label:hover label.sk-toggleable__label {background-color: #d4ebff;}#sk-container-id-17 div.sk-serial::before {content: \"\";position: absolute;border-left: 1px solid gray;box-sizing: border-box;top: 0;bottom: 0;left: 50%;z-index: 0;}#sk-container-id-17 div.sk-serial {display: flex;flex-direction: column;align-items: center;background-color: white;padding-right: 0.2em;padding-left: 0.2em;position: relative;}#sk-container-id-17 div.sk-item {position: relative;z-index: 1;}#sk-container-id-17 div.sk-parallel {display: flex;align-items: stretch;justify-content: center;background-color: white;position: relative;}#sk-container-id-17 div.sk-item::before, #sk-container-id-17 div.sk-parallel-item::before {content: \"\";position: absolute;border-left: 1px solid gray;box-sizing: border-box;top: 0;bottom: 0;left: 50%;z-index: -1;}#sk-container-id-17 div.sk-parallel-item {display: flex;flex-direction: column;z-index: 1;position: relative;background-color: white;}#sk-container-id-17 div.sk-parallel-item:first-child::after {align-self: flex-end;width: 50%;}#sk-container-id-17 div.sk-parallel-item:last-child::after {align-self: flex-start;width: 50%;}#sk-container-id-17 div.sk-parallel-item:only-child::after {width: 0;}#sk-container-id-17 div.sk-dashed-wrapped {border: 1px dashed gray;margin: 0 0.4em 0.5em 0.4em;box-sizing: border-box;padding-bottom: 0.4em;background-color: white;}#sk-container-id-17 div.sk-label label {font-family: monospace;font-weight: bold;display: inline-block;line-height: 1.2em;}#sk-container-id-17 div.sk-label-container {text-align: center;}#sk-container-id-17 div.sk-container {/* jupyter's `normalize.less` sets `[hidden] { display: none; }` but bootstrap.min.css set `[hidden] { display: none !important; }` so we also need the `!important` here to be able to override the default hidden behavior on the sphinx rendered scikit-learn.org. See: https://github.com/scikit-learn/scikit-learn/issues/21755 */display: inline-block !important;position: relative;}#sk-container-id-17 div.sk-text-repr-fallback {display: none;}</style><div id=\"sk-container-id-17\" class=\"sk-top-container\"><div class=\"sk-text-repr-fallback\"><pre>LinearRegression()</pre><b>In a Jupyter environment, please rerun this cell to show the HTML representation or trust the notebook. <br />On GitHub, the HTML representation is unable to render, please try loading this page with nbviewer.org.</b></div><div class=\"sk-container\" hidden><div class=\"sk-item\"><div class=\"sk-estimator sk-toggleable\"><input class=\"sk-toggleable__control sk-hidden--visually\" id=\"sk-estimator-id-17\" type=\"checkbox\" checked><label for=\"sk-estimator-id-17\" class=\"sk-toggleable__label sk-toggleable__label-arrow\">LinearRegression</label><div class=\"sk-toggleable__content\"><pre>LinearRegression()</pre></div></div></div></div></div>"
      ],
      "text/plain": [
       "LinearRegression()"
      ]
     },
     "execution_count": 113,
     "metadata": {},
     "output_type": "execute_result"
    }
   ],
   "source": [
    "# 进行多元回归分析\n",
    "import numpy as np\n",
    "import pandas as pd\n",
    "from sklearn.linear_model import LinearRegression\n",
    "import matplotlib.pyplot as plt\n",
    "model = LinearRegression()\n",
    "model.fit(train_pca, train_target)"
   ]
  },
  {
   "cell_type": "code",
   "execution_count": 114,
   "metadata": {},
   "outputs": [
    {
     "name": "stdout",
     "output_type": "stream",
     "text": [
      "Coefficients: [ 0.08722864  0.00651932 -0.01530356 -0.00141288]\n",
      "Intercept: 0.9992838196286471\n"
     ]
    }
   ],
   "source": [
    "# 查看回归系数\n",
    "print(f'Coefficients: {model.coef_}')\n",
    "\n",
    "# 查看截距\n",
    "print(f'Intercept: {model.intercept_}')"
   ]
  },
  {
   "cell_type": "code",
   "execution_count": 115,
   "metadata": {},
   "outputs": [
    {
     "name": "stdout",
     "output_type": "stream",
     "text": [
      "R-squared: 0.9256957897093037\n",
      "MAE: 0.131271924505624\n",
      "MSE: 0.023275620759527372\n"
     ]
    },
    {
     "data": {
      "image/png": "[encoded data removed]",
      "text/plain": [
       "<Figure size 640x480 with 1 Axes>"
      ]
     },
     "metadata": {},
     "output_type": "display_data"
    }
   ],
   "source": [
    "# 预测\n",
    "predictions = model.predict(test_pca)\n",
    "\n",
    "# 计算R平方\n",
    "r_squared = model.score(test_pca, test_target)\n",
    "print(f'R-squared: {r_squared}')\n",
    "\n",
    "# 计算MAE MSE\n",
    "from sklearn.metrics import mean_absolute_error, mean_squared_error\n",
    "\n",
    "mae = mean_absolute_error(test_target, predictions)\n",
    "\n",
    "mse = mean_squared_error(test_target, predictions)\n",
    "\n",
    "print(f\"MAE: {mae}\")\n",
    "print(f\"MSE: {mse}\")\n",
    "\n",
    "# 可视化\n",
    "import matplotlib.pyplot as plt\n",
    "plt.scatter(test_target, predictions)\n",
    "plt.xlabel('Actual values')\n",
    "plt.ylabel('Predicted values')\n",
    "plt.title('Actual vs. Predicted Values')\n",
    "plt.show() "
   ]
  },
  {
   "cell_type": "markdown",
   "metadata": {},
   "source": [
    "### 支持向量回归分析"
   ]
  },
  {
   "cell_type": "code",
   "execution_count": 116,
   "metadata": {},
   "outputs": [
    {
     "name": "stdout",
     "output_type": "stream",
     "text": [
      "Best parameters: {'C': 1, 'epsilon': 0.1, 'gamma': 'scale', 'kernel': 'rbf'}\n",
      "MAE of the best model: 0.06801355491710458\n",
      "MSE of the best model: 0.009354728887053387\n"
     ]
    }
   ],
   "source": [
    "from sklearn.model_selection import GridSearchCV\n",
    "from sklearn.svm import SVR\n",
    "from sklearn.metrics import make_scorer, mean_absolute_error, mean_squared_error\n",
    "\n",
    "# 创建SVR模型实例\n",
    "svr = SVR()\n",
    "\n",
    "# 定义参数网格\n",
    "param_grid = {\n",
    "    'C': [0.1, 1, 10],\n",
    "    'epsilon': [0.1, 0.2, 0.5],\n",
    "    'kernel': ['rbf', 'linear'],\n",
    "    'gamma': ['scale', 'auto']  # 仅在kernel为非线性时有效\n",
    "}\n",
    "\n",
    "# 为MAE创建评分函数\n",
    "mae_scorer = make_scorer(mean_absolute_error, greater_is_better=False)\n",
    "\n",
    "# 为MSE创建评分函数\n",
    "mse_scorer = make_scorer(mean_squared_error, greater_is_better=False)\n",
    "\n",
    "# 创建GridSearchCV实例，这里我们使用MSE作为refit标准\n",
    "grid_search = GridSearchCV(estimator=svr, param_grid=param_grid, cv=5, scoring={'mae': mae_scorer, 'mse': mse_scorer}, refit='mse')\n",
    "\n",
    "# 执行网格搜索\n",
    "grid_search.fit(train_pca, train_target)\n",
    "\n",
    "# 输出最佳参数\n",
    "print(\"Best parameters:\", grid_search.best_params_)\n",
    "\n",
    "# 使用最佳参数的模型\n",
    "best_svr = grid_search.best_estimator_\n",
    "\n",
    "# 评估最佳模型的MSE MAE\n",
    "predictions = best_svr.predict(test_pca)\n",
    "mae_score = mean_absolute_error(test_target, predictions)\n",
    "mse_score = mean_squared_error(test_target, predictions)\n",
    "print(\"MAE of the best model:\", mae_score)\n",
    "print(\"MSE of the best model:\", mse_score)"
   ]
  },
  {
   "cell_type": "markdown",
   "metadata": {},
   "source": [
    "### 随机森林回归分析"
   ]
  },
  {
   "cell_type": "code",
   "execution_count": 117,
   "metadata": {},
   "outputs": [
    {
     "name": "stdout",
     "output_type": "stream",
     "text": [
      "Best parameters for MAE: {'max_depth': None, 'n_estimators': 300}\n",
      "MAE of the best model: 0.020185140562248856\n",
      "MSE of the best model: 0.003334566091030776\n"
     ]
    }
   ],
   "source": [
    "from sklearn.model_selection import GridSearchCV\n",
    "from sklearn.ensemble import RandomForestRegressor\n",
    "from sklearn.metrics import make_scorer, mean_absolute_error, mean_squared_error\n",
    "from sklearn.datasets import make_regression\n",
    "# 创建随机森林回归模型\n",
    "rf = RandomForestRegressor(random_state=42, max_features='log2')\n",
    "\n",
    "# 定义要遍历的参数网格\n",
    "param_grid = {\n",
    "    'n_estimators': [100, 200, 300],\n",
    "    'max_depth': [None, 10, 20],\n",
    "}\n",
    "\n",
    "# 使用make_scorer包装MAE和MSE为评分函数\n",
    "scoring_functions = {\n",
    "    'MAE': make_scorer(mean_absolute_error, greater_is_better=False),\n",
    "    'MSE': make_scorer(mean_squared_error, greater_is_better=False)\n",
    "}\n",
    "\n",
    "# 创建GridSearchCV实例，设置评分标准为MAE\n",
    "grid_search = GridSearchCV(estimator=rf, param_grid=param_grid, cv=5, scoring=scoring_functions, refit='MAE')\n",
    "\n",
    "# 执行网格搜索\n",
    "grid_search.fit(train_input, train_target)\n",
    "\n",
    "# 输出最佳参数\n",
    "print(\"Best parameters for MAE:\", grid_search.best_params_)\n",
    "\n",
    "# 评估最佳模型的MSE\n",
    "best_model = grid_search.best_estimator_\n",
    "predictions = best_model.predict(test_input)\n",
    "mae_score = mean_absolute_error(test_target, predictions)\n",
    "mse_score = mean_squared_error(test_target, predictions)\n",
    "print(\"MAE of the best model:\", mae_score)\n",
    "print(\"MSE of the best model:\", mse_score)"
   ]
  },
  {
   "cell_type": "markdown",
   "metadata": {},
   "source": [
    "### 保存三个机器学习模型"
   ]
  },
  {
   "cell_type": "code",
   "execution_count": 119,
   "metadata": {},
   "outputs": [
    {
     "data": {
      "text/plain": [
       "['dvs_rfr.joblib']"
      ]
     },
     "execution_count": 119,
     "metadata": {},
     "output_type": "execute_result"
    }
   ],
   "source": [
    "from joblib import dump\n",
    "# 保存多元线性回归模型\n",
    "dump(model, 'dvs_mlr.joblib')\n",
    "# 保存支持向量回归模型\n",
    "dump(best_svr, 'dvs_svr.joblib')\n",
    "# 保存随机森林回归模型\n",
    "dump(best_model, 'dvs_rfr.joblib')"
   ]
  },
  {
   "cell_type": "markdown",
   "metadata": {},
   "source": [
    "## 对TAGP进行分析"
   ]
  },
  {
   "cell_type": "code",
   "execution_count": 120,
   "metadata": {},
   "outputs": [
    {
     "name": "stdout",
     "output_type": "stream",
     "text": [
      "0         23\n",
      "1         25\n",
      "2         29\n",
      "3         33\n",
      "4         39\n",
      "       ...  \n",
      "372    11705\n",
      "373    11879\n",
      "374    11985\n",
      "375    12093\n",
      "376    12248\n",
      "Name: tagp, Length: 377, dtype: int64\n",
      "0        21\n",
      "1        25\n",
      "2        29\n",
      "3        34\n",
      "4        40\n",
      "      ...  \n",
      "78    12252\n",
      "79    12431\n",
      "80    12600\n",
      "81    12758\n",
      "82    12905\n",
      "Name: tagp, Length: 83, dtype: int64\n"
     ]
    }
   ],
   "source": [
    "train_target = train['tagp'][6:].reset_index(drop=True)\n",
    "print(train_target)\n",
    "test_target = test['tagp'][6:].reset_index(drop=True)\n",
    "print(test_target)"
   ]
  },
  {
   "cell_type": "markdown",
   "metadata": {},
   "source": [
    "### 多元回归分析"
   ]
  },
  {
   "cell_type": "code",
   "execution_count": 121,
   "metadata": {},
   "outputs": [
    {
     "data": {
      "text/html": [
       "<style>#sk-container-id-18 {color: black;}#sk-container-id-18 pre{padding: 0;}#sk-container-id-18 div.sk-toggleable {background-color: white;}#sk-container-id-18 label.sk-toggleable__label {cursor: pointer;display: block;width: 100%;margin-bottom: 0;padding: 0.3em;box-sizing: border-box;text-align: center;}#sk-container-id-18 label.sk-toggleable__label-arrow:before {content: \"▸\";float: left;margin-right: 0.25em;color: #696969;}#sk-container-id-18 label.sk-toggleable__label-arrow:hover:before {color: black;}#sk-container-id-18 div.sk-estimator:hover label.sk-toggleable__label-arrow:before {color: black;}#sk-container-id-18 div.sk-toggleable__content {max-height: 0;max-width: 0;overflow: hidden;text-align: left;background-color: #f0f8ff;}#sk-container-id-18 div.sk-toggleable__content pre {margin: 0.2em;color: black;border-radius: 0.25em;background-color: #f0f8ff;}#sk-container-id-18 input.sk-toggleable__control:checked~div.sk-toggleable__content {max-height: 200px;max-width: 100%;overflow: auto;}#sk-container-id-18 input.sk-toggleable__control:checked~label.sk-toggleable__label-arrow:before {content: \"▾\";}#sk-container-id-18 div.sk-estimator input.sk-toggleable__control:checked~label.sk-toggleable__label {background-color: #d4ebff;}#sk-container-id-18 div.sk-label input.sk-toggleable__control:checked~label.sk-toggleable__label {background-color: #d4ebff;}#sk-container-id-18 input.sk-hidden--visually {border: 0;clip: rect(1px 1px 1px 1px);clip: rect(1px, 1px, 1px, 1px);height: 1px;margin: -1px;overflow: hidden;padding: 0;position: absolute;width: 1px;}#sk-container-id-18 div.sk-estimator {font-family: monospace;background-color: #f0f8ff;border: 1px dotted black;border-radius: 0.25em;box-sizing: border-box;margin-bottom: 0.5em;}#sk-container-id-18 div.sk-estimator:hover {background-color: #d4ebff;}#sk-container-id-18 div.sk-parallel-item::after {content: \"\";width: 100%;border-bottom: 1px solid gray;flex-grow: 1;}#sk-container-id-18 div.sk-label:hover label.sk-toggleable__label {background-color: #d4ebff;}#sk-container-id-18 div.sk-serial::before {content: \"\";position: absolute;border-left: 1px solid gray;box-sizing: border-box;top: 0;bottom: 0;left: 50%;z-index: 0;}#sk-container-id-18 div.sk-serial {display: flex;flex-direction: column;align-items: center;background-color: white;padding-right: 0.2em;padding-left: 0.2em;position: relative;}#sk-container-id-18 div.sk-item {position: relative;z-index: 1;}#sk-container-id-18 div.sk-parallel {display: flex;align-items: stretch;justify-content: center;background-color: white;position: relative;}#sk-container-id-18 div.sk-item::before, #sk-container-id-18 div.sk-parallel-item::before {content: \"\";position: absolute;border-left: 1px solid gray;box-sizing: border-box;top: 0;bottom: 0;left: 50%;z-index: -1;}#sk-container-id-18 div.sk-parallel-item {display: flex;flex-direction: column;z-index: 1;position: relative;background-color: white;}#sk-container-id-18 div.sk-parallel-item:first-child::after {align-self: flex-end;width: 50%;}#sk-container-id-18 div.sk-parallel-item:last-child::after {align-self: flex-start;width: 50%;}#sk-container-id-18 div.sk-parallel-item:only-child::after {width: 0;}#sk-container-id-18 div.sk-dashed-wrapped {border: 1px dashed gray;margin: 0 0.4em 0.5em 0.4em;box-sizing: border-box;padding-bottom: 0.4em;background-color: white;}#sk-container-id-18 div.sk-label label {font-family: monospace;font-weight: bold;display: inline-block;line-height: 1.2em;}#sk-container-id-18 div.sk-label-container {text-align: center;}#sk-container-id-18 div.sk-container {/* jupyter's `normalize.less` sets `[hidden] { display: none; }` but bootstrap.min.css set `[hidden] { display: none !important; }` so we also need the `!important` here to be able to override the default hidden behavior on the sphinx rendered scikit-learn.org. See: https://github.com/scikit-learn/scikit-learn/issues/21755 */display: inline-block !important;position: relative;}#sk-container-id-18 div.sk-text-repr-fallback {display: none;}</style><div id=\"sk-container-id-18\" class=\"sk-top-container\"><div class=\"sk-text-repr-fallback\"><pre>LinearRegression()</pre><b>In a Jupyter environment, please rerun this cell to show the HTML representation or trust the notebook. <br />On GitHub, the HTML representation is unable to render, please try loading this page with nbviewer.org.</b></div><div class=\"sk-container\" hidden><div class=\"sk-item\"><div class=\"sk-estimator sk-toggleable\"><input class=\"sk-toggleable__control sk-hidden--visually\" id=\"sk-estimator-id-18\" type=\"checkbox\" checked><label for=\"sk-estimator-id-18\" class=\"sk-toggleable__label sk-toggleable__label-arrow\">LinearRegression</label><div class=\"sk-toggleable__content\"><pre>LinearRegression()</pre></div></div></div></div></div>"
      ],
      "text/plain": [
       "LinearRegression()"
      ]
     },
     "execution_count": 121,
     "metadata": {},
     "output_type": "execute_result"
    }
   ],
   "source": [
    "# 进行多元回归分析\n",
    "import numpy as np\n",
    "import pandas as pd\n",
    "from sklearn.linear_model import LinearRegression\n",
    "import matplotlib.pyplot as plt\n",
    "model = LinearRegression()\n",
    "model.fit(train_pca, train_target)"
   ]
  },
  {
   "cell_type": "code",
   "execution_count": 122,
   "metadata": {},
   "outputs": [
    {
     "name": "stdout",
     "output_type": "stream",
     "text": [
      "Coefficients: [ 6.39877585e+02  2.11105742e-01 -1.38310031e+01  9.09722828e+01]\n",
      "Intercept: 4545.811671087533\n"
     ]
    }
   ],
   "source": [
    "# 查看回归系数\n",
    "print(f'Coefficients: {model.coef_}')\n",
    "\n",
    "# 查看截距\n",
    "print(f'Intercept: {model.intercept_}')"
   ]
  },
  {
   "cell_type": "code",
   "execution_count": 123,
   "metadata": {},
   "outputs": [
    {
     "name": "stdout",
     "output_type": "stream",
     "text": [
      "R-squared: 0.9370199646948523\n",
      "MAE: 850.2713187268233\n",
      "MSE: 1251179.9876985578\n"
     ]
    },
    {
     "data": {
      "image/png": "[encoded data removed]",
      "text/plain": [
       "<Figure size 640x480 with 1 Axes>"
      ]
     },
     "metadata": {},
     "output_type": "display_data"
    }
   ],
   "source": [
    "# 预测\n",
    "predictions = model.predict(test_pca)\n",
    "\n",
    "# 计算R平方\n",
    "r_squared = model.score(test_pca, test_target)\n",
    "print(f'R-squared: {r_squared}')\n",
    "\n",
    "# 计算MAE MSE\n",
    "from sklearn.metrics import mean_absolute_error, mean_squared_error\n",
    "\n",
    "mae = mean_absolute_error(test_target, predictions)\n",
    "\n",
    "mse = mean_squared_error(test_target, predictions)\n",
    "\n",
    "print(f\"MAE: {mae}\")\n",
    "print(f\"MSE: {mse}\")\n",
    "\n",
    "# 可视化\n",
    "import matplotlib.pyplot as plt\n",
    "plt.scatter(test_target, predictions)\n",
    "plt.xlabel('Actual values')\n",
    "plt.ylabel('Predicted values')\n",
    "plt.title('Actual vs. Predicted Values')\n",
    "plt.show() "
   ]
  },
  {
   "cell_type": "markdown",
   "metadata": {},
   "source": [
    "### 支持向量回归分析"
   ]
  },
  {
   "cell_type": "code",
   "execution_count": 126,
   "metadata": {},
   "outputs": [
    {
     "name": "stdout",
     "output_type": "stream",
     "text": [
      "Best parameters: {'C': 1, 'epsilon': 0.5, 'gamma': 'scale', 'kernel': 'linear'}\n",
      "MAE of the best model: 809.2364465259235\n",
      "MSE of the best model: 1197914.7547588227\n"
     ]
    }
   ],
   "source": [
    "from sklearn.model_selection import GridSearchCV\n",
    "from sklearn.svm import SVR\n",
    "from sklearn.metrics import make_scorer, mean_absolute_error, mean_squared_error\n",
    "\n",
    "# 创建SVR模型实例\n",
    "svr = SVR()\n",
    "\n",
    "# 定义参数网格\n",
    "param_grid = {\n",
    "    'C': [0.1, 1, 10],\n",
    "    'epsilon': [0.1, 0.2, 0.5],\n",
    "    'kernel': ['rbf', 'linear'],\n",
    "    'gamma': ['scale', 'auto']  # 仅在kernel为非线性时有效\n",
    "}\n",
    "\n",
    "# 为MAE创建评分函数\n",
    "mae_scorer = make_scorer(mean_absolute_error, greater_is_better=False)\n",
    "\n",
    "# 为MSE创建评分函数\n",
    "mse_scorer = make_scorer(mean_squared_error, greater_is_better=False)\n",
    "\n",
    "# 创建GridSearchCV实例，这里我们使用MSE作为refit标准\n",
    "grid_search = GridSearchCV(estimator=svr, param_grid=param_grid, cv=5, scoring={'mae': mae_scorer, 'mse': mse_scorer}, refit='mse')\n",
    "\n",
    "# 执行网格搜索\n",
    "grid_search.fit(train_pca, train_target)\n",
    "\n",
    "# 输出最佳参数\n",
    "print(\"Best parameters:\", grid_search.best_params_)\n",
    "\n",
    "# 使用最佳参数的模型\n",
    "best_svr = grid_search.best_estimator_\n",
    "\n",
    "# 评估最佳模型的MSE MAE\n",
    "predictions = best_svr.predict(test_pca)\n",
    "mae_score = mean_absolute_error(test_target, predictions)\n",
    "mse_score = mean_squared_error(test_target, predictions)\n",
    "print(\"MAE of the best model:\", mae_score)\n",
    "print(\"MSE of the best model:\", mse_score)"
   ]
  },
  {
   "cell_type": "markdown",
   "metadata": {},
   "source": [
    "### 随机森林回归分析"
   ]
  },
  {
   "cell_type": "code",
   "execution_count": 127,
   "metadata": {},
   "outputs": [
    {
     "name": "stdout",
     "output_type": "stream",
     "text": [
      "Best parameters for MAE: {'max_depth': 10, 'n_estimators': 300}\n",
      "MAE of the best model: 383.35022591732206\n",
      "MSE of the best model: 377839.3661407082\n"
     ]
    }
   ],
   "source": [
    "from sklearn.model_selection import GridSearchCV\n",
    "from sklearn.ensemble import RandomForestRegressor\n",
    "from sklearn.metrics import make_scorer, mean_absolute_error, mean_squared_error\n",
    "from sklearn.datasets import make_regression\n",
    "# 创建随机森林回归模型\n",
    "rf = RandomForestRegressor(random_state=42, max_features='log2')\n",
    "\n",
    "# 定义要遍历的参数网格\n",
    "param_grid = {\n",
    "    'n_estimators': [100, 200, 300],\n",
    "    'max_depth': [None, 10, 20],\n",
    "}\n",
    "\n",
    "# 使用make_scorer包装MAE和MSE为评分函数\n",
    "scoring_functions = {\n",
    "    'MAE': make_scorer(mean_absolute_error, greater_is_better=False),\n",
    "    'MSE': make_scorer(mean_squared_error, greater_is_better=False)\n",
    "}\n",
    "\n",
    "# 创建GridSearchCV实例，设置评分标准为MAE\n",
    "grid_search = GridSearchCV(estimator=rf, param_grid=param_grid, cv=5, scoring=scoring_functions, refit='MAE')\n",
    "\n",
    "# 执行网格搜索\n",
    "grid_search.fit(train_input, train_target)\n",
    "\n",
    "# 输出最佳参数\n",
    "print(\"Best parameters for MAE:\", grid_search.best_params_)\n",
    "\n",
    "# 评估最佳模型的MSE\n",
    "best_model = grid_search.best_estimator_\n",
    "predictions = best_model.predict(test_input)\n",
    "mae_score = mean_absolute_error(test_target, predictions)\n",
    "mse_score = mean_squared_error(test_target, predictions)\n",
    "print(\"MAE of the best model:\", mae_score)\n",
    "print(\"MSE of the best model:\", mse_score)"
   ]
  },
  {
   "cell_type": "markdown",
   "metadata": {},
   "source": [
    "### 保存三个机器学习模型"
   ]
  },
  {
   "cell_type": "code",
   "execution_count": 128,
   "metadata": {},
   "outputs": [
    {
     "data": {
      "text/plain": [
       "['tagp_rfr.joblib']"
      ]
     },
     "execution_count": 128,
     "metadata": {},
     "output_type": "execute_result"
    }
   ],
   "source": [
    "from joblib import dump\n",
    "# 保存多元线性回归模型\n",
    "dump(model, 'tagp_mlr.joblib')\n",
    "# 保存支持向量回归模型\n",
    "dump(best_svr, 'tagp_svr.joblib')\n",
    "# 保存随机森林回归模型\n",
    "dump(best_model, 'tagp_rfr.joblib')"
   ]
  },
  {
   "cell_type": "markdown",
   "metadata": {},
   "source": [
    "## 对LAI进行分析"
   ]
  },
  {
   "cell_type": "code",
   "execution_count": 129,
   "metadata": {},
   "outputs": [
    {
     "name": "stdout",
     "output_type": "stream",
     "text": [
      "0      0.03\n",
      "1      0.03\n",
      "2      0.03\n",
      "3      0.04\n",
      "4      0.05\n",
      "       ... \n",
      "372    5.73\n",
      "373    5.53\n",
      "374    5.12\n",
      "375    4.80\n",
      "376    4.80\n",
      "Name: lai, Length: 377, dtype: float64\n",
      "0     0.03\n",
      "1     0.03\n",
      "2     0.03\n",
      "3     0.04\n",
      "4     0.05\n",
      "      ... \n",
      "78    5.87\n",
      "79    5.43\n",
      "80    4.99\n",
      "81    4.54\n",
      "82    4.29\n",
      "Name: lai, Length: 83, dtype: float64\n"
     ]
    }
   ],
   "source": [
    "train_target = train['lai'][6:].reset_index(drop=True)\n",
    "print(train_target)\n",
    "test_target = test['lai'][6:].reset_index(drop=True)\n",
    "print(test_target)"
   ]
  },
  {
   "cell_type": "markdown",
   "metadata": {},
   "source": [
    "### 多元回归分析"
   ]
  },
  {
   "cell_type": "code",
   "execution_count": 130,
   "metadata": {},
   "outputs": [
    {
     "data": {
      "text/html": [
       "<style>#sk-container-id-19 {color: black;}#sk-container-id-19 pre{padding: 0;}#sk-container-id-19 div.sk-toggleable {background-color: white;}#sk-container-id-19 label.sk-toggleable__label {cursor: pointer;display: block;width: 100%;margin-bottom: 0;padding: 0.3em;box-sizing: border-box;text-align: center;}#sk-container-id-19 label.sk-toggleable__label-arrow:before {content: \"▸\";float: left;margin-right: 0.25em;color: #696969;}#sk-container-id-19 label.sk-toggleable__label-arrow:hover:before {color: black;}#sk-container-id-19 div.sk-estimator:hover label.sk-toggleable__label-arrow:before {color: black;}#sk-container-id-19 div.sk-toggleable__content {max-height: 0;max-width: 0;overflow: hidden;text-align: left;background-color: #f0f8ff;}#sk-container-id-19 div.sk-toggleable__content pre {margin: 0.2em;color: black;border-radius: 0.25em;background-color: #f0f8ff;}#sk-container-id-19 input.sk-toggleable__control:checked~div.sk-toggleable__content {max-height: 200px;max-width: 100%;overflow: auto;}#sk-container-id-19 input.sk-toggleable__control:checked~label.sk-toggleable__label-arrow:before {content: \"▾\";}#sk-container-id-19 div.sk-estimator input.sk-toggleable__control:checked~label.sk-toggleable__label {background-color: #d4ebff;}#sk-container-id-19 div.sk-label input.sk-toggleable__control:checked~label.sk-toggleable__label {background-color: #d4ebff;}#sk-container-id-19 input.sk-hidden--visually {border: 0;clip: rect(1px 1px 1px 1px);clip: rect(1px, 1px, 1px, 1px);height: 1px;margin: -1px;overflow: hidden;padding: 0;position: absolute;width: 1px;}#sk-container-id-19 div.sk-estimator {font-family: monospace;background-color: #f0f8ff;border: 1px dotted black;border-radius: 0.25em;box-sizing: border-box;margin-bottom: 0.5em;}#sk-container-id-19 div.sk-estimator:hover {background-color: #d4ebff;}#sk-container-id-19 div.sk-parallel-item::after {content: \"\";width: 100%;border-bottom: 1px solid gray;flex-grow: 1;}#sk-container-id-19 div.sk-label:hover label.sk-toggleable__label {background-color: #d4ebff;}#sk-container-id-19 div.sk-serial::before {content: \"\";position: absolute;border-left: 1px solid gray;box-sizing: border-box;top: 0;bottom: 0;left: 50%;z-index: 0;}#sk-container-id-19 div.sk-serial {display: flex;flex-direction: column;align-items: center;background-color: white;padding-right: 0.2em;padding-left: 0.2em;position: relative;}#sk-container-id-19 div.sk-item {position: relative;z-index: 1;}#sk-container-id-19 div.sk-parallel {display: flex;align-items: stretch;justify-content: center;background-color: white;position: relative;}#sk-container-id-19 div.sk-item::before, #sk-container-id-19 div.sk-parallel-item::before {content: \"\";position: absolute;border-left: 1px solid gray;box-sizing: border-box;top: 0;bottom: 0;left: 50%;z-index: -1;}#sk-container-id-19 div.sk-parallel-item {display: flex;flex-direction: column;z-index: 1;position: relative;background-color: white;}#sk-container-id-19 div.sk-parallel-item:first-child::after {align-self: flex-end;width: 50%;}#sk-container-id-19 div.sk-parallel-item:last-child::after {align-self: flex-start;width: 50%;}#sk-container-id-19 div.sk-parallel-item:only-child::after {width: 0;}#sk-container-id-19 div.sk-dashed-wrapped {border: 1px dashed gray;margin: 0 0.4em 0.5em 0.4em;box-sizing: border-box;padding-bottom: 0.4em;background-color: white;}#sk-container-id-19 div.sk-label label {font-family: monospace;font-weight: bold;display: inline-block;line-height: 1.2em;}#sk-container-id-19 div.sk-label-container {text-align: center;}#sk-container-id-19 div.sk-container {/* jupyter's `normalize.less` sets `[hidden] { display: none; }` but bootstrap.min.css set `[hidden] { display: none !important; }` so we also need the `!important` here to be able to override the default hidden behavior on the sphinx rendered scikit-learn.org. See: https://github.com/scikit-learn/scikit-learn/issues/21755 */display: inline-block !important;position: relative;}#sk-container-id-19 div.sk-text-repr-fallback {display: none;}</style><div id=\"sk-container-id-19\" class=\"sk-top-container\"><div class=\"sk-text-repr-fallback\"><pre>LinearRegression()</pre><b>In a Jupyter environment, please rerun this cell to show the HTML representation or trust the notebook. <br />On GitHub, the HTML representation is unable to render, please try loading this page with nbviewer.org.</b></div><div class=\"sk-container\" hidden><div class=\"sk-item\"><div class=\"sk-estimator sk-toggleable\"><input class=\"sk-toggleable__control sk-hidden--visually\" id=\"sk-estimator-id-19\" type=\"checkbox\" checked><label for=\"sk-estimator-id-19\" class=\"sk-toggleable__label sk-toggleable__label-arrow\">LinearRegression</label><div class=\"sk-toggleable__content\"><pre>LinearRegression()</pre></div></div></div></div></div>"
      ],
      "text/plain": [
       "LinearRegression()"
      ]
     },
     "execution_count": 130,
     "metadata": {},
     "output_type": "execute_result"
    }
   ],
   "source": [
    "# 进行多元回归分析\n",
    "import numpy as np\n",
    "import pandas as pd\n",
    "from sklearn.linear_model import LinearRegression\n",
    "import matplotlib.pyplot as plt\n",
    "model = LinearRegression()\n",
    "model.fit(train_pca, train_target)"
   ]
  },
  {
   "cell_type": "code",
   "execution_count": 131,
   "metadata": {},
   "outputs": [
    {
     "name": "stdout",
     "output_type": "stream",
     "text": [
      "Coefficients: [ 0.38169617  0.08173166 -0.5798758  -0.01235231]\n",
      "Intercept: 3.745994694960212\n"
     ]
    }
   ],
   "source": [
    "# 查看回归系数\n",
    "print(f'Coefficients: {model.coef_}')\n",
    "\n",
    "# 查看截距\n",
    "print(f'Intercept: {model.intercept_}')"
   ]
  },
  {
   "cell_type": "code",
   "execution_count": 132,
   "metadata": {},
   "outputs": [
    {
     "name": "stdout",
     "output_type": "stream",
     "text": [
      "R-squared: 0.9686471389854592\n",
      "MAE: 0.4229214348783734\n",
      "MSE: 0.2697746117018825\n"
     ]
    },
    {
     "data": {
      "image/png": "[encoded data removed]",
      "text/plain": [
       "<Figure size 640x480 with 1 Axes>"
      ]
     },
     "metadata": {},
     "output_type": "display_data"
    }
   ],
   "source": [
    "# 预测\n",
    "predictions = model.predict(test_pca)\n",
    "print('predictions:', predictions)\n",
    "print('true value:', test_target)\n",
    "# 计算R平方\n",
    "r_squared = model.score(test_pca, test_target)\n",
    "print(f'R-squared: {r_squared}')\n",
    "\n",
    "# 计算MAE MSE\n",
    "from sklearn.metrics import mean_absolute_error, mean_squared_error\n",
    "\n",
    "mae = mean_absolute_error(test_target, predictions)\n",
    "\n",
    "mse = mean_squared_error(test_target, predictions)\n",
    "\n",
    "print(f\"MAE: {mae}\")\n",
    "print(f\"MSE: {mse}\")\n",
    "\n",
    "# 可视化\n",
    "import matplotlib.pyplot as plt\n",
    "plt.scatter(test_target, predictions)\n",
    "plt.xlabel('Actual values')\n",
    "plt.ylabel('Predicted values')\n",
    "plt.title('Actual vs. Predicted Values')\n",
    "plt.show() "
   ]
  },
  {
   "cell_type": "markdown",
   "metadata": {},
   "source": [
    "### 支持向量回归分析"
   ]
  },
  {
   "cell_type": "code",
   "execution_count": 133,
   "metadata": {},
   "outputs": [
    {
     "name": "stdout",
     "output_type": "stream",
     "text": [
      "Best parameters: {'C': 1, 'epsilon': 0.2, 'gamma': 'scale', 'kernel': 'linear'}\n",
      "MAE of the best model: 0.411790704963269\n",
      "MSE of the best model: 0.28195929028553557\n"
     ]
    }
   ],
   "source": [
    "from sklearn.model_selection import GridSearchCV\n",
    "from sklearn.svm import SVR\n",
    "from sklearn.metrics import make_scorer, mean_absolute_error, mean_squared_error\n",
    "\n",
    "# 创建SVR模型实例\n",
    "svr = SVR()\n",
    "\n",
    "# 定义参数网格\n",
    "param_grid = {\n",
    "    'C': [0.1, 1, 10],\n",
    "    'epsilon': [0.1, 0.2, 0.5],\n",
    "    'kernel': ['rbf', 'linear'],\n",
    "    'gamma': ['scale', 'auto']  # 仅在kernel为非线性时有效\n",
    "}\n",
    "\n",
    "# 为MAE创建评分函数\n",
    "mae_scorer = make_scorer(mean_absolute_error, greater_is_better=False)\n",
    "\n",
    "# 为MSE创建评分函数\n",
    "mse_scorer = make_scorer(mean_squared_error, greater_is_better=False)\n",
    "\n",
    "# 创建GridSearchCV实例，这里我们使用MSE作为refit标准\n",
    "grid_search = GridSearchCV(estimator=svr, param_grid=param_grid, cv=5, scoring={'mae': mae_scorer, 'mse': mse_scorer}, refit='mse')\n",
    "\n",
    "# 执行网格搜索\n",
    "grid_search.fit(train_pca, train_target)\n",
    "\n",
    "# 输出最佳参数\n",
    "print(\"Best parameters:\", grid_search.best_params_)\n",
    "\n",
    "# 使用最佳参数的模型\n",
    "best_svr = grid_search.best_estimator_\n",
    "\n",
    "# 评估最佳模型的MSE MAE\n",
    "predictions = best_svr.predict(test_pca)\n",
    "mae_score = mean_absolute_error(test_target, predictions)\n",
    "mse_score = mean_squared_error(test_target, predictions)\n",
    "print(\"MAE of the best model:\", mae_score)\n",
    "print(\"MSE of the best model:\", mse_score)"
   ]
  },
  {
   "cell_type": "markdown",
   "metadata": {},
   "source": [
    "### 随机森林回归分析"
   ]
  },
  {
   "cell_type": "code",
   "execution_count": 134,
   "metadata": {},
   "outputs": [
    {
     "name": "stdout",
     "output_type": "stream",
     "text": [
      "Best parameters for MAE: {'max_depth': 10, 'n_estimators': 200}\n",
      "MAE of the best model: 0.10277798258968834\n",
      "MSE of the best model: 0.02927521737049756\n"
     ]
    }
   ],
   "source": [
    "from sklearn.model_selection import GridSearchCV\n",
    "from sklearn.ensemble import RandomForestRegressor\n",
    "from sklearn.metrics import make_scorer, mean_absolute_error, mean_squared_error\n",
    "from sklearn.datasets import make_regression\n",
    "# 创建随机森林回归模型\n",
    "rf = RandomForestRegressor(random_state=42, max_features='log2')\n",
    "\n",
    "# 定义要遍历的参数网格\n",
    "param_grid = {\n",
    "    'n_estimators': [100, 200, 300],\n",
    "    'max_depth': [None, 10, 20],\n",
    "}\n",
    "\n",
    "# 使用make_scorer包装MAE和MSE为评分函数\n",
    "scoring_functions = {\n",
    "    'MAE': make_scorer(mean_absolute_error, greater_is_better=False),\n",
    "    'MSE': make_scorer(mean_squared_error, greater_is_better=False)\n",
    "}\n",
    "\n",
    "# 创建GridSearchCV实例，设置评分标准为MAE\n",
    "grid_search = GridSearchCV(estimator=rf, param_grid=param_grid, cv=5, scoring=scoring_functions, refit='MAE')\n",
    "\n",
    "# 执行网格搜索\n",
    "grid_search.fit(train_input, train_target)\n",
    "\n",
    "# 输出最佳参数\n",
    "print(\"Best parameters for MAE:\", grid_search.best_params_)\n",
    "\n",
    "# 评估最佳模型的MSE\n",
    "best_model = grid_search.best_estimator_\n",
    "predictions = best_model.predict(test_input)\n",
    "mae_score = mean_absolute_error(test_target, predictions)\n",
    "mse_score = mean_squared_error(test_target, predictions)\n",
    "print(\"MAE of the best model:\", mae_score)\n",
    "print(\"MSE of the best model:\", mse_score)"
   ]
  },
  {
   "cell_type": "markdown",
   "metadata": {},
   "source": [
    "### 保存三个机器学习模型"
   ]
  },
  {
   "cell_type": "code",
   "execution_count": 135,
   "metadata": {},
   "outputs": [
    {
     "data": {
      "text/plain": [
       "['lai_rfr.joblib']"
      ]
     },
     "execution_count": 135,
     "metadata": {},
     "output_type": "execute_result"
    }
   ],
   "source": [
    "from joblib import dump\n",
    "# 保存多元线性回归模型\n",
    "dump(model, 'lai_mlr.joblib')\n",
    "# 保存支持向量回归模型\n",
    "dump(best_svr, 'lai_svr.joblib')\n",
    "# 保存随机森林回归模型\n",
    "dump(best_model, 'lai_rfr.joblib')"
   ]
  }
 ],
 "metadata": {
  "kernelspec": {
   "display_name": "crop_study",
   "language": "python",
   "name": "python3"
  },
  "language_info": {
   "codemirror_mode": {
    "name": "ipython",
    "version": 3
   },
   "file_extension": ".py",
   "mimetype": "text/x-python",
   "name": "python",
   "nbconvert_exporter": "python",
   "pygments_lexer": "ipython3",
   "version": "3.8.18"
  }
 },
 "nbformat": 4,
 "nbformat_minor": 2
}
